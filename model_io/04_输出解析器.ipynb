{
 "cells": [
  {
   "metadata": {},
   "cell_type": "markdown",
   "source": "### StrOutputParser",
   "id": "2933a9d5770c61e4"
  },
  {
   "metadata": {
    "ExecuteTime": {
     "end_time": "2025-08-06T01:02:42.804097Z",
     "start_time": "2025-08-06T01:02:40.304243Z"
    }
   },
   "cell_type": "code",
   "source": [
    "from langchain_core.messages import HumanMessage, SystemMessage\n",
    "from langchain_core.output_parsers import StrOutputParser\n",
    "\n",
    "import os\n",
    "import dotenv\n",
    "from langchain_openai import ChatOpenAI\n",
    "\n",
    "dotenv.load_dotenv()\n",
    "\n",
    "\n",
    "chat_model = ChatOpenAI(\n",
    "    model=\"qwen-plus\",\n",
    "    api_key=os.getenv('DASHSCOPE_API_KEY'),\n",
    "    base_url=os.getenv('DASHSCOPE_BASE_URL')\n",
    ")\n",
    "\n",
    "messages = [\n",
    "    SystemMessage(content=\"将以下内容从英语翻译成中文\"),\n",
    "    HumanMessage(content=\"It's a nice day today\"),\n",
    "]\n",
    "\n",
    "result = chat_model.invoke(messages)\n",
    "print(type(result))\n",
    "print(result)\n",
    "\n",
    "parser = StrOutputParser()\n",
    "#使用parser处理model返回的结果\n",
    "response = parser.invoke(result)\n",
    "print(type(response))\n",
    "print(response)"
   ],
   "id": "e283badf582af01d",
   "outputs": [
    {
     "name": "stderr",
     "output_type": "stream",
     "text": [
      "/opt/anaconda3/envs/langchain/lib/python3.10/site-packages/requests/__init__.py:86: RequestsDependencyWarning: Unable to find acceptable character detection dependency (chardet or charset_normalizer).\n",
      "  warnings.warn(\n"
     ]
    },
    {
     "name": "stdout",
     "output_type": "stream",
     "text": [
      "<class 'langchain_core.messages.ai.AIMessage'>\n",
      "content='今天天气真好' additional_kwargs={'refusal': None} response_metadata={'token_usage': {'completion_tokens': 4, 'prompt_tokens': 31, 'total_tokens': 35, 'completion_tokens_details': None, 'prompt_tokens_details': {'audio_tokens': None, 'cached_tokens': 0}}, 'model_name': 'qwen-plus', 'system_fingerprint': None, 'id': 'chatcmpl-f1c09ddb-ada2-908f-9c9d-22d8a7e0768c', 'service_tier': None, 'finish_reason': 'stop', 'logprobs': None} id='run--2023186f-b249-4a68-a981-0f8d90909557-0' usage_metadata={'input_tokens': 31, 'output_tokens': 4, 'total_tokens': 35, 'input_token_details': {'cache_read': 0}, 'output_token_details': {}}\n",
      "<class 'str'>\n",
      "今天天气真好\n"
     ]
    }
   ],
   "execution_count": 1
  },
  {
   "metadata": {},
   "cell_type": "markdown",
   "source": "### JSON解析器 JsonOutputParser",
   "id": "49f0d92677649f56"
  },
  {
   "metadata": {
    "ExecuteTime": {
     "end_time": "2025-08-06T01:06:41.107715Z",
     "start_time": "2025-08-06T01:06:39.242231Z"
    }
   },
   "cell_type": "code",
   "source": [
    "from langchain_core.output_parsers import JsonOutputParser\n",
    "from langchain_core.prompts import ChatPromptTemplate\n",
    "\n",
    "chat_prompt_template = ChatPromptTemplate.from_messages([\n",
    "    (\"system\",\"你是一个靠谱的{role}\"),\n",
    "    (\"human\",\"{question}\")\n",
    "])\n",
    "\n",
    "parser = JsonOutputParser()\n",
    "\n",
    "# 方式1：\n",
    "# result = chat_model.invoke(chat_prompt_template.format_messages(role=\"人工智能专家\",question=\"人工智能用英文怎么说？问题用q表示，答案用a表示，返回一个JSON格式\"))\n",
    "# print(result)\n",
    "# print(type(result))\n",
    "#\n",
    "# parser.invoke(result)\n",
    "\n",
    "# 方式2：\n",
    "chain = chat_prompt_template | chat_model | parser\n",
    "result = chain.invoke({\"role\":\"人工智能专家\",\"question\" : \"人工智能用英文怎么说？问题用q表示，答案用a表示，返回一个JSON格式\"})\n",
    "print(result)\n",
    "print(type(result))"
   ],
   "id": "20e2b006ebdce5cf",
   "outputs": [
    {
     "name": "stdout",
     "output_type": "stream",
     "text": [
      "{'q': '人工智能用英文怎么说？', 'a': 'Artificial Intelligence'}\n",
      "<class 'dict'>\n"
     ]
    }
   ],
   "execution_count": 4
  },
  {
   "metadata": {},
   "cell_type": "markdown",
   "source": "### 自己指定JSON格式",
   "id": "16d220de6e81f664"
  },
  {
   "metadata": {
    "ExecuteTime": {
     "end_time": "2025-08-06T01:09:19.083027Z",
     "start_time": "2025-08-06T01:09:15.116411Z"
    }
   },
   "cell_type": "code",
   "source": [
    "from langchain_core.prompts import PromptTemplate\n",
    "from langchain_openai import ChatOpenAI\n",
    "\n",
    "# 手动定义JSON格式指令\n",
    "format_instructions = \"\"\"{\n",
    "    \"joke\": \"str  #完整的笑话内容\",\n",
    "    \"explanation\": \"str  #笑话的文化背景解释\"\n",
    "}\"\"\"\n",
    "\n",
    "# 提示模板\n",
    "joke_query = \"告诉我一个笑话。\"\n",
    "\n",
    "prompt_template = PromptTemplate(\n",
    "    template=\"回答用户的查询。\\n格式要求：{format_instructions}\\n，问题是：{query}\\n\",\n",
    "    input_variables=[\"query\"],\n",
    "    partial_variables={\"format_instructions\": format_instructions},\n",
    ")\n",
    "\n",
    "# 输出解析器\n",
    "parser = JsonOutputParser()\n",
    "\n",
    "chain = prompt_template | chat_model | parser\n",
    "resp = chain.invoke({\"query\": joke_query})\n",
    "print(resp)\n",
    "print(type(resp))"
   ],
   "id": "bb39bbcdb6c2212",
   "outputs": [
    {
     "name": "stdout",
     "output_type": "stream",
     "text": [
      "{'joke': '为什么数学书总是很忧伤？因为它有太多的问题！', 'explanation': '这个笑话利用了‘问题’这个词的双关含义。数学书通常包含很多数学问题供学生解决，而‘忧伤’则暗示了情感上的痛苦，形成了一种幽默的对比。这样的笑话在学校和学习环境中很常见，容易引起学生的共鸣。'}\n",
      "<class 'dict'>\n"
     ]
    }
   ],
   "execution_count": 7
  },
  {
   "metadata": {
    "ExecuteTime": {
     "end_time": "2025-08-06T01:26:37.997728Z",
     "start_time": "2025-08-06T01:26:37.994868Z"
    }
   },
   "cell_type": "code",
   "source": "print(parser.get_format_instructions())",
   "id": "e7a3b66fbf658d28",
   "outputs": [
    {
     "name": "stdout",
     "output_type": "stream",
     "text": [
      "Return a JSON object.\n"
     ]
    }
   ],
   "execution_count": 14
  },
  {
   "metadata": {},
   "cell_type": "markdown",
   "source": "###  日期解析器 DatetimeOutputParser",
   "id": "7047b855ec92102"
  },
  {
   "metadata": {
    "ExecuteTime": {
     "end_time": "2025-08-06T01:12:03.910515Z",
     "start_time": "2025-08-06T01:12:03.880354Z"
    }
   },
   "cell_type": "code",
   "source": [
    "from langchain.output_parsers import DatetimeOutputParser\n",
    "\n",
    "output_parser = DatetimeOutputParser()\n",
    "\n",
    "format_instructions = output_parser.get_format_instructions()\n",
    "print(format_instructions)"
   ],
   "id": "37558eff5d2c457",
   "outputs": [
    {
     "name": "stdout",
     "output_type": "stream",
     "text": [
      "Write a datetime string that matches the following pattern: '%Y-%m-%dT%H:%M:%S.%fZ'.\n",
      "\n",
      "Examples: 2023-07-04T14:30:00.000000Z, 1999-12-31T23:59:59.999999Z, 2025-01-01T00:00:00.000000Z\n",
      "\n",
      "Return ONLY this string, no other words!\n"
     ]
    }
   ],
   "execution_count": 8
  },
  {
   "metadata": {
    "ExecuteTime": {
     "end_time": "2025-08-06T01:12:48.310685Z",
     "start_time": "2025-08-06T01:12:48.306935Z"
    }
   },
   "cell_type": "code",
   "source": [
    "from langchain.output_parsers import DatetimeOutputParser\n",
    "\n",
    "output_parser = DatetimeOutputParser()\n",
    "# print(output_parser.get_format_instructions())\n",
    "\n",
    "str_time = '1547-06-23T21:24:07.078384Z'\n",
    "date_time = output_parser.parse(str_time)\n",
    "print(type(str_time))\n",
    "print(type(date_time))\n",
    "print(date_time)"
   ],
   "id": "b067ef61d1cf8f4f",
   "outputs": [
    {
     "name": "stdout",
     "output_type": "stream",
     "text": [
      "<class 'str'>\n",
      "<class 'datetime.datetime'>\n",
      "1547-06-23 21:24:07.078384\n"
     ]
    }
   ],
   "execution_count": 9
  },
  {
   "metadata": {},
   "cell_type": "markdown",
   "source": "### 列表解析器 CommaSeparatedListOutputParser",
   "id": "e3e5df11b2ae821b"
  },
  {
   "metadata": {
    "ExecuteTime": {
     "end_time": "2025-08-06T01:13:51.426450Z",
     "start_time": "2025-08-06T01:13:51.423496Z"
    }
   },
   "cell_type": "code",
   "source": [
    "from langchain_core.output_parsers import CommaSeparatedListOutputParser\n",
    "\n",
    "output_parser = CommaSeparatedListOutputParser()\n",
    "\n",
    "# 返回一些指令或模板，这些指令告诉系统如何解析或格式化输出数据\n",
    "format_instructions = output_parser.get_format_instructions()\n",
    "print(format_instructions)\n",
    "\n",
    "messages = \"大象,猩猩,狮子\"\n",
    "result = output_parser.parse(messages)\n",
    "print(result)\n",
    "print(type(result))"
   ],
   "id": "4c7758b7f9bdc596",
   "outputs": [
    {
     "name": "stdout",
     "output_type": "stream",
     "text": [
      "Your response should be a list of comma separated values, eg: `foo, bar, baz` or `foo,bar,baz`\n",
      "['大象', '猩猩', '狮子']\n",
      "<class 'list'>\n"
     ]
    }
   ],
   "execution_count": 10
  },
  {
   "metadata": {
    "ExecuteTime": {
     "end_time": "2025-08-06T01:18:04.172900Z",
     "start_time": "2025-08-06T01:18:02.230505Z"
    }
   },
   "cell_type": "code",
   "source": [
    "from langchain_core.prompts import PromptTemplate\n",
    "from langchain_openai import ChatOpenAI\n",
    "from langchain.output_parsers import CommaSeparatedListOutputParser\n",
    "\n",
    "# 初始化语言模型\n",
    "chat_model = ChatOpenAI(model=\"gpt-4o-mini\" ,api_key=os.getenv('OPENAI_API_KEY'),base_url=os.getenv('OPENAI_BASE_URL'))\n",
    "# 创建解析器\n",
    "output_parser = CommaSeparatedListOutputParser()\n",
    "\n",
    "# 创建LangChain提示模板\n",
    "chat_prompt = PromptTemplate.from_template(\n",
    "    \"生成5个关于{text}的列表.\\n\\n{format_instructions}\",\n",
    "    partial_variables={\n",
    "    \"format_instructions\": output_parser.get_format_instructions()\n",
    "    })\n",
    "\n",
    "# 提示模板与输出解析器传递输出\n",
    "# chat_prompt = chat_prompt.partial(format_instructions=output_parser.get_format_instructions())\n",
    "\n",
    "# 将提示和模型合并以进行调用\n",
    "chain = chat_prompt | chat_model | output_parser\n",
    "res = chain.invoke({\"text\": \"电影\"})\n",
    "print(res)\n",
    "print(type(res))"
   ],
   "id": "7047afa1601735d7",
   "outputs": [
    {
     "name": "stdout",
     "output_type": "stream",
     "text": [
      "['热门电影', '经典影片', '动画电影', '科幻电影', '恐怖片']\n",
      "<class 'list'>\n"
     ]
    }
   ],
   "execution_count": 12
  },
  {
   "metadata": {},
   "cell_type": "markdown",
   "source": "### XML解析器 XMLOutputParser",
   "id": "b7e1a130ee04aaee"
  },
  {
   "metadata": {
    "ExecuteTime": {
     "end_time": "2025-08-06T01:19:57.003295Z",
     "start_time": "2025-08-06T01:19:56.999614Z"
    }
   },
   "cell_type": "code",
   "source": [
    "from langchain_core.output_parsers import XMLOutputParser\n",
    "\n",
    "output_parser = XMLOutputParser()\n",
    "# 返回一些指令或模板，这些指令告诉系统如何解析或格式化输出数据\n",
    "format_instructions = output_parser.get_format_instructions()\n",
    "print(format_instructions)"
   ],
   "id": "daecd43922df92a4",
   "outputs": [
    {
     "name": "stdout",
     "output_type": "stream",
     "text": [
      "The output should be formatted as a XML file.\n",
      "1. Output should conform to the tags below.\n",
      "2. If tags are not given, make them on your own.\n",
      "3. Remember to always open and close all the tags.\n",
      "\n",
      "As an example, for the tags [\"foo\", \"bar\", \"baz\"]:\n",
      "1. String \"<foo>\n",
      "   <bar>\n",
      "      <baz></baz>\n",
      "   </bar>\n",
      "</foo>\" is a well-formatted instance of the schema.\n",
      "2. String \"<foo>\n",
      "   <bar>\n",
      "   </foo>\" is a badly-formatted instance.\n",
      "3. String \"<foo>\n",
      "   <tag>\n",
      "   </tag>\n",
      "</foo>\" is a badly-formatted instance.\n",
      "\n",
      "Here are the output tags:\n",
      "```\n",
      "None\n",
      "```\n"
     ]
    }
   ],
   "execution_count": 13
  }
 ],
 "metadata": {
  "kernelspec": {
   "display_name": "Python 3",
   "language": "python",
   "name": "python3"
  },
  "language_info": {
   "codemirror_mode": {
    "name": "ipython",
    "version": 2
   },
   "file_extension": ".py",
   "mimetype": "text/x-python",
   "name": "python",
   "nbconvert_exporter": "python",
   "pygments_lexer": "ipython2",
   "version": "2.7.6"
  }
 },
 "nbformat": 4,
 "nbformat_minor": 5
}
