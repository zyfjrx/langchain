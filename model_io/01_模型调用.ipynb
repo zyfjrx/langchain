{
 "cells": [
  {
   "metadata": {},
   "cell_type": "markdown",
   "source": "非对话模型",
   "id": "2d01327e593086de"
  },
  {
   "metadata": {
    "ExecuteTime": {
     "end_time": "2025-08-04T09:34:14.478009Z",
     "start_time": "2025-08-04T09:34:08.460244Z"
    }
   },
   "cell_type": "code",
   "source": [
    "import os\n",
    "import dotenv\n",
    "from langchain_openai import OpenAI\n",
    "dotenv.load_dotenv()\n",
    "llm = OpenAI(api_key=os.getenv(\"OPENAI_API_KEY\"),base_url=os.getenv(\"OPENAI_BASE_URL\"))\n",
    "str = llm.invoke(\"写一首关于春天的诗\")  # 直接输入字符串\n",
    "print(str)"
   ],
   "id": "5d4080827a1d9bb1",
   "outputs": [
    {
     "name": "stdout",
     "output_type": "stream",
     "text": [
      "\n",
      "春风拂过大地，\n",
      "万物复苏生机勃发。\n",
      "清晨鸟儿啼鸣，\n",
      "花香弥漫空中。\n",
      "\n",
      "桃花妖娆娇艳，\n",
      "柳树抽出新枝。\n",
      "蝴蝶翩翩起舞，\n",
      "蜜蜂忙碌采蜜。\n",
      "\n",
      "田野间绿意盎然，\n",
      "农夫忙着耕耘。\n",
      "果树上结满果实，\n",
      "农家喜悦收获。\n",
      "\n",
      "春雨滋润大地，\n",
      "河水潺潺流淌。\n",
      "小溪里游鱼欢快，\n",
      "青蛙唱着欢歌。\n",
      "\n",
      "春天如此美好，\n",
      "给我们带来希望。\n",
      "让我们一起欢呼，\n",
      "迎接春天的到来。\n"
     ]
    }
   ],
   "execution_count": 3
  },
  {
   "metadata": {},
   "cell_type": "markdown",
   "source": "对话模型",
   "id": "529361b44694b1ca"
  },
  {
   "cell_type": "code",
   "id": "initial_id",
   "metadata": {
    "collapsed": true,
    "ExecuteTime": {
     "end_time": "2025-08-04T09:32:36.825829Z",
     "start_time": "2025-08-04T09:32:35.313528Z"
    }
   },
   "source": [
    "from langchain_openai import ChatOpenAI\n",
    "from langchain_core.messages import SystemMessage, HumanMessage\n",
    "import os\n",
    "import dotenv\n",
    "dotenv.load_dotenv()\n",
    "chat_model = ChatOpenAI(api_key=os.getenv(\"OPENAI_API_KEY\"),base_url=os.getenv(\"OPENAI_BASE_URL\"),model=\"gpt-3.5-turbo\")\n",
    "messages = [\n",
    "    SystemMessage(content=\"你是一个诗人\"),\n",
    "    HumanMessage(content=\"写一首关于春天的诗\")\n",
    "]\n",
    "response = chat_model.invoke(messages)  # 输入消息列表\n",
    "print(response)\n",
    "print(type(response))  # <class 'langchain_core.messages.ai.AIMessage'>"
   ],
   "outputs": [
    {
     "name": "stdout",
     "output_type": "stream",
     "text": [
      "content='春风拂面柳轻摇，  \\n万物复苏入梦遥。  \\n桃花灼灼映朝阳，  \\n蜂蝶翩翩舞柳桥。\\n\\n小溪欢唱流水清，  \\n嫩绿草畔点滴生。  \\n红鸟啼鸣声声暖，  \\n愿将春色共君倾。' additional_kwargs={'refusal': None} response_metadata={'token_usage': {'completion_tokens': 77, 'prompt_tokens': 24, 'total_tokens': 101, 'completion_tokens_details': {'accepted_prediction_tokens': 0, 'audio_tokens': 0, 'reasoning_tokens': 0, 'rejected_prediction_tokens': 0}, 'prompt_tokens_details': {'audio_tokens': 0, 'cached_tokens': 0}}, 'model_name': 'gpt-3.5-turbo-0125', 'system_fingerprint': 'fp_efad92c60b', 'id': 'chatcmpl-C0lqV3gDSspiZIcVNbfRfUOA1QMhy', 'service_tier': None, 'finish_reason': 'stop', 'logprobs': None} id='run--248c3448-ba07-4ea1-af9c-f0b8254066ed-0' usage_metadata={'input_tokens': 24, 'output_tokens': 77, 'total_tokens': 101, 'input_token_details': {'audio': 0, 'cache_read': 0}, 'output_token_details': {'audio': 0, 'reasoning': 0}}\n",
      "<class 'langchain_core.messages.ai.AIMessage'>\n"
     ]
    }
   ],
   "execution_count": 2
  }
 ],
 "metadata": {
  "kernelspec": {
   "display_name": "Python 3",
   "language": "python",
   "name": "python3"
  },
  "language_info": {
   "codemirror_mode": {
    "name": "ipython",
    "version": 2
   },
   "file_extension": ".py",
   "mimetype": "text/x-python",
   "name": "python",
   "nbconvert_exporter": "python",
   "pygments_lexer": "ipython2",
   "version": "2.7.6"
  }
 },
 "nbformat": 4,
 "nbformat_minor": 5
}
