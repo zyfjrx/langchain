{
 "cells": [
  {
   "metadata": {},
   "cell_type": "raw",
   "source": "1. 获取大模型",
   "id": "ec9b7c21ac6a8e46"
  },
  {
   "metadata": {
    "ExecuteTime": {
     "end_time": "2025-08-04T09:09:33.919092Z",
     "start_time": "2025-08-04T09:09:33.914407Z"
    }
   },
   "cell_type": "code",
   "source": [
    "import os\n",
    "import dotenv\n",
    "dotenv.load_dotenv()\n",
    "print(os.getenv('OPENAI_API_KEY'))\n",
    "print(os.getenv('OPENAI_BASE_URL'))\n",
    "print(os.getenv('DASHSCOPE_BASE_URL'))\n",
    "print(os.getenv('DASHSCOPE_API_KEY'))"
   ],
   "id": "97dafa046eb2a5c0",
   "outputs": [
    {
     "name": "stdout",
     "output_type": "stream",
     "text": [
      "hk-e6y54310000462160a54b4d0097e29e44d3ec90d2e06988e\n",
      "https://api.openai-hk.com/v1\n",
      "https://dashscope.aliyuncs.com/compatible-mode/v1\n",
      "sk-19833f4d600340668696111248147e45\n"
     ]
    }
   ],
   "execution_count": 9
  },
  {
   "metadata": {
    "ExecuteTime": {
     "end_time": "2025-08-04T09:07:04.514385Z",
     "start_time": "2025-08-04T09:06:29.450523Z"
    }
   },
   "cell_type": "code",
   "source": [
    "#导入 dotenv 库的 load_dotenv 函数，用于加载环境变量文件（.env）中的配置\n",
    "import dotenv\n",
    "from langchain_openai import ChatOpenAI\n",
    "import os\n",
    "\n",
    "# dotenv.load_dotenv()  #加载当前目录下的 .env 文件\n",
    "#\n",
    "# os.environ['OPENAI_API_KEY'] = os.getenv(\"DASHSCOPE_API_KEY\")\n",
    "# os.environ['OPENAI_BASE_URL'] = os.getenv(\"DASHSCOPE_BASE_URL\")\n",
    "\n",
    "# 创建大模型实例\n",
    "llm = ChatOpenAI(model=\"qwen-plus\", api_key=os.getenv('DASHSCOPE_API_KEY'), base_url=os.getenv('DASHSCOPE_BASE_URL'))  # 默认使用 gpt-3.5-turbo\n",
    "\n",
    "# 直接提供问题，并调用llm\n",
    "response = llm.invoke(\"什么是大模型？\")\n",
    "print(response)"
   ],
   "id": "3f116196d2efc64d",
   "outputs": [
    {
     "name": "stderr",
     "output_type": "stream",
     "text": [
      "/opt/anaconda3/envs/langchain/lib/python3.10/site-packages/requests/__init__.py:86: RequestsDependencyWarning: Unable to find acceptable character detection dependency (chardet or charset_normalizer).\n",
      "  warnings.warn(\n"
     ]
    },
    {
     "name": "stdout",
     "output_type": "stream",
     "text": [
      "content='“大模型”是近年来人工智能领域的一个热门概念，尤其是在自然语言处理（NLP）和深度学习方向。下面我将从多个角度为你详细解释什么是“大模型”。\\n\\n---\\n\\n## 一、什么是大模型？\\n\\n**大模型**，全称**大规模人工智能模型**，通常指的是具有**大量参数**（通常是数亿甚至数千亿个参数）的深度学习模型。这些模型通过在大量数据上进行训练，能够学习到丰富的知识和模式，从而在各种任务中表现出色。\\n\\n---\\n\\n## 二、大模型的核心特点\\n\\n1. **参数规模大**  \\n   - 参数是模型内部用于学习数据特征的变量。参数越多，模型越复杂，学习能力越强。\\n   - 例如：\\n     - BERT-base：约1.1亿参数\\n     - GPT-3：1750亿参数\\n     - GPT-4：具体数字未公开，但远超GPT-3\\n\\n2. **训练数据量庞大**  \\n   - 大模型通常使用**海量数据**进行训练，比如整个互联网的文本、图像、音频等。\\n   - 例如，GPT-3 的训练数据包含数百亿个单词。\\n\\n3. **多任务能力强**  \\n   - 大模型可以同时处理多种任务，如文本生成、问答、翻译、摘要、编程等，而无需为每个任务单独训练模型。\\n\\n4. **泛化能力强**  \\n   - 即使面对训练数据中没有见过的任务，大模型也能做出合理回应。\\n\\n5. **需要强大算力支持**  \\n   - 训练和运行大模型需要高性能的计算设备（如GPU、TPU集群）和较高的能耗。\\n\\n---\\n\\n## 三、大模型的类型（按模态划分）\\n\\n| 模型类型 | 说明 | 示例 |\\n|----------|------|------|\\n| **语言大模型（LLM）** | 处理文本，生成自然语言内容 | GPT、BERT、通义千问、文心一言 |\\n| **视觉大模型（VLM）** | 处理图像、视频 | CLIP、DALL-E、Stable Diffusion |\\n| **多模态大模型** | 同时处理文本、图像、音频等多种信息 | CLIP、Flamingo、Qwen-VL |\\n\\n---\\n\\n## 四、典型大模型举例\\n\\n| 模型名称 | 所属机构 | 参数量 | 特点 |\\n|----------|----------|--------|------|\\n| GPT-3 | OpenAI | 1750亿 | 强大的文本生成能力 |\\n| BERT | Google | 3.4亿（BERT-large） | 预训练语言模型，擅长理解任务 |\\n| 文心一言 | 百度 | 未公开 | 中文大模型 |\\n| 通义千问（Qwen） | 阿里云 | 超千亿 | 支持多种语言和任务 |\\n| Stable Diffusion | Stability AI | 数十亿 | 图像生成模型 |\\n\\n---\\n\\n## 五、大模型的应用场景\\n\\n1. **自然语言处理**\\n   - 自动写作、机器翻译、对话系统、摘要生成、情感分析等。\\n\\n2. **图像生成与理解**\\n   - 图像生成（如AI绘画）、图像识别、图像描述生成等。\\n\\n3. **语音识别与合成**\\n   - 语音助手、语音转文字、语音合成等。\\n\\n4. **代码生成与理解**\\n   - 自动编写代码、代码补全、代码解释等。\\n\\n5. **科学研究**\\n   - 分子结构预测、蛋白质设计、药物发现等。\\n\\n---\\n\\n## 六、大模型的挑战与问题\\n\\n1. **高昂的训练成本**\\n   - 需要大量计算资源和电力，训练一次成本可达数百万美元。\\n\\n2. **部署和推理成本高**\\n   - 推理时也需要高性能硬件，限制了在普通设备上的应用。\\n\\n3. **数据偏见与伦理问题**\\n   - 如果训练数据有偏见，模型也会继承这些偏见。\\n\\n4. **可解释性差**\\n   - 大模型像“黑箱”，难以解释其决策过程。\\n\\n5. **安全与隐私风险**\\n   - 可能泄露训练数据中的隐私信息。\\n\\n---\\n\\n## 七、大模型的发展趋势\\n\\n1. **更大模型 vs 更高效模型**\\n   - 一方面继续追求更大更强的模型；\\n   - 另一方面研究如何压缩模型、提升效率。\\n\\n2. **多模态融合**\\n   - 图文、音视频等多模态统一建模成为趋势。\\n\\n3. **模型即服务（MaaS）**\\n   - 提供模型API服务，让开发者无需自己训练即可使用。\\n\\n4. **本地化与边缘部署**\\n   - 推动模型在手机、IoT设备等边缘设备上的部署。\\n\\n---\\n\\n## 八、总结一句话\\n\\n> **大模型就是参数量极大、训练数据极多、能力极强的人工智能模型，代表了当前AI发展的前沿方向。**\\n\\n---\\n\\n如果你对某个具体的大模型（如GPT、通义千问）感兴趣，或者想了解它的技术细节、训练方法、应用场景，我也可以继续为你深入讲解！' additional_kwargs={'refusal': None} response_metadata={'token_usage': {'completion_tokens': 1109, 'prompt_tokens': 16, 'total_tokens': 1125, 'completion_tokens_details': None, 'prompt_tokens_details': {'audio_tokens': None, 'cached_tokens': 0}}, 'model_name': 'qwen-plus', 'system_fingerprint': None, 'id': 'chatcmpl-fe691175-249a-9977-bea9-0e54a83c3dd1', 'service_tier': None, 'finish_reason': 'stop', 'logprobs': None} id='run--2a3919a5-ddc7-4196-b3f1-2746869f9884-0' usage_metadata={'input_tokens': 16, 'output_tokens': 1109, 'total_tokens': 1125, 'input_token_details': {'cache_read': 0}, 'output_token_details': {}}\n"
     ]
    }
   ],
   "execution_count": 5
  },
  {
   "metadata": {},
   "cell_type": "markdown",
   "source": "2 使用提示词模板",
   "id": "35c47d9d8edae3c5"
  },
  {
   "metadata": {
    "ExecuteTime": {
     "end_time": "2025-08-04T09:07:46.127011Z",
     "start_time": "2025-08-04T09:07:22.827256Z"
    }
   },
   "cell_type": "code",
   "source": [
    "from langchain_core.prompts import ChatPromptTemplate\n",
    "\n",
    "# 需要注意的一点是，这里需要指明具体的role，在这里是system和用户\n",
    "prompt = ChatPromptTemplate.from_messages([\n",
    "    (\"system\", \"你是世界级的技术文档编写者\"),\n",
    "    (\"user\", \"{input}\")  # {input}为变量\n",
    "])\n",
    "\n",
    "# 我们可以把prompt和具体llm的调用和在一起。\n",
    "chain = prompt | llm\n",
    "message = chain.invoke({\"input\": \"大模型中的LangChain是什么?\"})\n",
    "print(message)\n",
    "\n",
    "# print(type(message))"
   ],
   "id": "ffddbfd4400cfbaf",
   "outputs": [
    {
     "name": "stdout",
     "output_type": "stream",
     "text": [
      "content='LangChain 是一个用于开发基于大语言模型（LLM，Large Language Model）应用程序的框架，它提供了一套工具、接口和模块，帮助开发者更高效地构建、集成和扩展与语言模型相关的应用。LangChain 的核心目标是**简化与语言模型交互的流程，并提升应用的灵活性和可扩展性**。\\n\\n---\\n\\n## 一、LangChain 的定义\\n\\n**LangChain 是一个用于构建语言模型驱动应用程序的开发框架**。它不仅提供与大语言模型（如 GPT、LLaMA、ChatGLM 等）交互的能力，还提供了记忆、检索、工具调用、链式处理等功能模块，使得开发者可以构建复杂、智能化的语言模型应用。\\n\\n---\\n\\n## 二、LangChain 的核心概念\\n\\nLangChain 的架构围绕以下几个核心概念展开：\\n\\n### 1. **LLM（Large Language Model）**\\n   - 指的是大语言模型本身，例如 OpenAI 的 GPT 系列、Anthropic 的 Claude、Google 的 Gemini、Meta 的 LLaMA 等。\\n   - LangChain 提供了统一的接口来调用这些模型。\\n\\n### 2. **Prompt（提示）**\\n   - 是用户给模型的输入，通常是一个结构化的文本模板。\\n   - LangChain 提供 PromptTemplate 来动态生成提示，使得提示可以根据上下文动态变化。\\n\\n### 3. **Chain（链）**\\n   - Chain 是 LangChain 的核心概念之一，表示一系列操作的组合。\\n   - 它将多个步骤串联起来，比如：输入 → 生成提示 → 调用模型 → 后处理输出。\\n   - 支持自定义 Chain，也可以组合多个 Chain 构建复杂的逻辑。\\n\\n### 4. **Memory（记忆）**\\n   - 用于在对话中保存上下文信息。\\n   - LangChain 提供了短期记忆（如 ConversationBufferMemory）和长期记忆（如与数据库结合）机制。\\n\\n### 5. **Retrieval（检索）**\\n   - 用于从外部数据源中检索信息，比如从文档、数据库或网页中提取相关内容。\\n   - 结合 LLM 使用，实现基于知识的问答系统。\\n\\n### 6. **Tools（工具）**\\n   - 允许 LLM 调用外部工具或 API，比如搜索引擎、数据库、代码解释器等。\\n   - 这使得模型可以执行超出其训练数据范围的操作。\\n\\n---\\n\\n## 三、LangChain 的主要模块\\n\\n| 模块 | 功能 |\\n|------|------|\\n| **LLMs** | 提供调用大语言模型的接口 |\\n| **Prompt Templates** | 动态生成提示词 |\\n| **Chains** | 将多个操作组合为链式流程 |\\n| **Agents** | 自动决策模型调用哪些工具 |\\n| **Memory** | 管理对话状态和上下文 |\\n| **Retrievers** | 实现信息检索功能 |\\n| **Callbacks** | 监控和调试模型调用过程 |\\n\\n---\\n\\n## 四、LangChain 的应用场景\\n\\nLangChain 可用于构建以下类型的应用：\\n\\n- **聊天机器人（Chatbot）**\\n- **问答系统（Q&A）**\\n- **自动化内容生成（如文章、邮件、报告）**\\n- **数据分析与可视化**\\n- **智能客服**\\n- **个性化推荐系统**\\n- **代码生成与解释器**\\n\\n---\\n\\n## 五、LangChain 的优势\\n\\n| 优势 | 描述 |\\n|------|------|\\n| **模块化设计** | 所有组件均可独立使用或组合使用 |\\n| **支持多种模型** | 支持主流 LLM，包括 OpenAI、Anthropic、HuggingFace 等 |\\n| **灵活扩展性强** | 可自定义 Chain、Prompt、Memory 等模块 |\\n| **支持工具集成** | 可接入外部 API、数据库、搜索引擎等 |\\n| **社区活跃** | 有活跃的开源社区和丰富的文档支持 |\\n\\n---\\n\\n## 六、LangChain 的使用示例（Python）\\n\\n```python\\nfrom langchain.llms import OpenAI\\nfrom langchain.prompts import PromptTemplate\\nfrom langchain.chains import LLMChain\\n\\n# 初始化模型\\nllm = OpenAI(model_name=\"text-davinci-003\")\\n\\n# 定义提示模板\\nprompt = PromptTemplate.from_template(\"请根据以下主题写一段话：{topic}\")\\n\\n# 创建 Chain\\nchain = LLMChain(llm=llm, prompt=prompt)\\n\\n# 调用 Chain\\nresponse = chain.run(topic=\"人工智能的未来发展\")\\nprint(response)\\n```\\n\\n---\\n\\n## 七、总结\\n\\nLangChain 是一个强大的语言模型应用开发框架，它通过模块化设计和链式结构，让开发者可以灵活地构建各种基于 LLM 的应用。无论是构建聊天机器人、问答系统，还是自动化内容生成工具，LangChain 都提供了良好的支持。\\n\\n---\\n\\n如果你有具体的使用场景或想了解 LangChain 的某个模块（如 Agents、Retrievers 等），我可以进一步为你详细讲解。' additional_kwargs={'refusal': None} response_metadata={'token_usage': {'completion_tokens': 1066, 'prompt_tokens': 30, 'total_tokens': 1096, 'completion_tokens_details': None, 'prompt_tokens_details': {'audio_tokens': None, 'cached_tokens': 0}}, 'model_name': 'qwen-plus', 'system_fingerprint': None, 'id': 'chatcmpl-544ef578-6823-9f4b-b2b1-7966ac7438c7', 'service_tier': None, 'finish_reason': 'stop', 'logprobs': None} id='run--d730aa1e-3063-4664-ad5f-dac7e5142836-0' usage_metadata={'input_tokens': 30, 'output_tokens': 1066, 'total_tokens': 1096, 'input_token_details': {'cache_read': 0}, 'output_token_details': {}}\n"
     ]
    }
   ],
   "execution_count": 6
  },
  {
   "metadata": {},
   "cell_type": "markdown",
   "source": "3 使用输出解析器",
   "id": "50cd2175d5ebc991"
  },
  {
   "metadata": {
    "ExecuteTime": {
     "end_time": "2025-08-04T09:09:59.196201Z",
     "start_time": "2025-08-04T09:09:51.830041Z"
    }
   },
   "cell_type": "code",
   "source": [
    "from langchain_openai import ChatOpenAI\n",
    "from langchain_core.prompts import ChatPromptTemplate\n",
    "from langchain_core.output_parsers import StrOutputParser,JsonOutputParser\n",
    "\n",
    "# # 初始化模型\n",
    "# llm = ChatOpenAI(model=\"qwen-plus\")\n",
    "llm = ChatOpenAI(model=\"qwen-plus\", api_key=os.getenv('DASHSCOPE_API_KEY'), base_url=os.getenv('DASHSCOPE_BASE_URL'))\n",
    "# 创建提示模板\n",
    "prompt = ChatPromptTemplate.from_messages([\n",
    "    (\"system\", \"你是世界级的技术文档编写者。输出格式要求：{format_instructions}\"),\n",
    "    (\"user\", \"{input}\")\n",
    "])\n",
    "\n",
    "# 使用输出解析器\n",
    "# output_parser = StrOutputParser()\n",
    "output_parser = JsonOutputParser()\n",
    "\n",
    "# 将其添加到上一个链中\n",
    "# chain = prompt | llm\n",
    "chain = prompt | llm | output_parser\n",
    "\n",
    "# 调用它并提出同样的问题。答案是一个字符串，而不是ChatMessage\n",
    "# chain.invoke({\"input\": \"LangChain是什么?\"})\n",
    "chain.invoke({\"input\": \"LangChain是什么? \",\"format_instructions\":output_parser.get_format_instructions()})"
   ],
   "id": "c0992545b452838",
   "outputs": [
    {
     "data": {
      "text/plain": [
       "{'LangChain': {'description': 'LangChain是一个用于开发基于语言模型的应用程序的框架，它简化了将大语言模型（LLM）集成到各种任务和应用中的过程。',\n",
       "  'key_features': ['模块化设计，便于集成和扩展',\n",
       "   '支持多种语言模型和API',\n",
       "   '提供工具和接口用于构建自定义流程',\n",
       "   '简化与外部数据源和API的交互'],\n",
       "  'use_cases': ['构建聊天机器人和虚拟助手', '自动化内容生成', '数据分析和可视化', '个性化推荐系统'],\n",
       "  'components': {'LLM': '核心语言模型，用于生成文本和推理',\n",
       "   'Prompt Templates': '用于构建和管理提示的模板系统',\n",
       "   'Chains': '将多个模型调用和逻辑步骤组合为一个流程',\n",
       "   'Agents': '自动化决策和任务执行模块',\n",
       "   'Memory': '为模型提供状态管理能力'},\n",
       "  'website': 'https://www.langchain.com',\n",
       "  'github': 'https://github.com/hwchase17/langchain'}}"
      ]
     },
     "execution_count": 10,
     "metadata": {},
     "output_type": "execute_result"
    }
   ],
   "execution_count": 10
  },
  {
   "metadata": {},
   "cell_type": "markdown",
   "source": "4 使用向量存储",
   "id": "31805e86f0a43b1e"
  },
  {
   "metadata": {
    "ExecuteTime": {
     "end_time": "2025-08-04T09:10:19.036214Z",
     "start_time": "2025-08-04T09:10:03.993317Z"
    }
   },
   "cell_type": "code",
   "source": [
    "# 导入和使用 WebBaseLoader\n",
    "from langchain_community.document_loaders import WebBaseLoader\n",
    "import bs4\n",
    "\n",
    "loader = WebBaseLoader(\n",
    "        web_path=\"https://www.gov.cn/xinwen/2020-06/01/content_5516649.htm\",\n",
    "        bs_kwargs=dict(parse_only=bs4.SoupStrainer(id=\"UCAP-CONTENT\"))\n",
    "    )\n",
    "docs = loader.load()\n",
    "# print(docs)\n",
    "\n",
    "# 对于嵌入模型，这里通过 API调用\n",
    "from langchain_openai import OpenAIEmbeddings\n",
    "embeddings = OpenAIEmbeddings(model=\"text-embedding-ada-002\",api_key=os.getenv('OPENAI_API_KEY'), base_url=os.getenv('OPENAI_BASE_URL'))\n",
    "\n",
    "from langchain_community.vectorstores import FAISS\n",
    "from langchain_text_splitters import RecursiveCharacterTextSplitter\n",
    "\n",
    "# 使用分割器分割文档\n",
    "text_splitter = RecursiveCharacterTextSplitter(chunk_size=500, chunk_overlap=50)\n",
    "documents = text_splitter.split_documents(docs)\n",
    "print(len(documents))\n",
    "# 向量存储  embeddings 会将 documents 中的每个文本片段转换为向量，并将这些向量存储在 FAISS 向量数据库中（默认会存储在内存中）\n",
    "vector = FAISS.from_documents(documents, embeddings)"
   ],
   "id": "f80b231355296087",
   "outputs": [
    {
     "name": "stderr",
     "output_type": "stream",
     "text": [
      "USER_AGENT environment variable not set, consider setting it to identify your requests.\n"
     ]
    },
    {
     "name": "stdout",
     "output_type": "stream",
     "text": [
      "248\n"
     ]
    }
   ],
   "execution_count": 11
  },
  {
   "metadata": {},
   "cell_type": "markdown",
   "source": "5 使用RAG进行检索",
   "id": "137ae07afa9f57b0"
  },
  {
   "metadata": {
    "ExecuteTime": {
     "end_time": "2025-08-04T09:10:33.220271Z",
     "start_time": "2025-08-04T09:10:29.126716Z"
    }
   },
   "cell_type": "code",
   "source": [
    "from langchain_core.prompts import PromptTemplate\n",
    "\n",
    "retriever = vector.as_retriever()\n",
    "retriever.search_kwargs = {\"k\": 3}\n",
    "docs = retriever.invoke(\"建设用地使用权是什么？\")\n",
    "\n",
    "# for i,doc in enumerate(docs):\n",
    "#     print(f\"⭐第{i+1}条规定：\")\n",
    "#     print(doc)\n",
    "\n",
    "# 6.定义提示词模版\n",
    "prompt_template = \"\"\"\n",
    "你是一个问答机器人。\n",
    "你的任务是根据下述给定的已知信息回答用户问题。\n",
    "确保你的回复完全依据下述已知信息。不要编造答案。\n",
    "如果下述已知信息不足以回答用户的问题，请直接回复\"我无法回答您的问题\"。\n",
    "\n",
    "已知信息:\n",
    "{info}\n",
    "\n",
    "用户问：\n",
    "{question}\n",
    "\n",
    "请用中文回答用户问题。\n",
    "\"\"\"\n",
    "# 7.得到提示词模版对象\n",
    "template = PromptTemplate.from_template(prompt_template)\n",
    "\n",
    "# 8.得到提示词对象\n",
    "prompt = template.format(info=docs, question='建设用地使用权是什么？')\n",
    "\n",
    "## 9. 调用LLM\n",
    "response = llm.invoke(prompt)\n",
    "print(response.content)"
   ],
   "id": "d10f670514f4e8f7",
   "outputs": [
    {
     "name": "stdout",
     "output_type": "stream",
     "text": [
      "建设用地使用权是指权利人依法对土地享有占有、使用的权利，并可以依法利用该土地建造建筑物、构筑物及其附属设施。这种权利可以在土地的地表、地上或者地下分别设立，并需遵守节约资源、保护生态环境的要求，以及法律、行政法规关于土地用途的规定。建设用地使用权的设立不得损害已经存在的用益物权。\n"
     ]
    }
   ],
   "execution_count": 12
  },
  {
   "metadata": {},
   "cell_type": "markdown",
   "source": "6 使用Agent",
   "id": "57ef1b4bdcaa088"
  },
  {
   "metadata": {
    "ExecuteTime": {
     "end_time": "2025-08-04T09:22:34.522860Z",
     "start_time": "2025-08-04T09:22:14.570171Z"
    }
   },
   "cell_type": "code",
   "source": [
    "from langchain.tools.retriever import create_retriever_tool\n",
    "\n",
    "# 检索器工具\n",
    "retriever_tool = create_retriever_tool(\n",
    "    retriever,\n",
    "    \"CivilCodeRetriever\",\n",
    "    \"搜索有关中华人民共和国民法典的信息。关于中华人民共和国民法典的任何问题，您必须使用此工具!\",\n",
    ")\n",
    "\n",
    "tools = [retriever_tool]\n",
    "\n",
    "from langchain import hub\n",
    "from langchain.agents import create_openai_functions_agent\n",
    "from langchain.agents import AgentExecutor\n",
    "\n",
    "# https://smith.langchain.com/hub\n",
    "prompt = hub.pull(\"hwchase17/openai-functions-agent\")\n",
    "llm = ChatOpenAI(model=\"qwen-plus\", api_key=os.getenv('DASHSCOPE_API_KEY'), base_url=os.getenv('DASHSCOPE_BASE_URL'))\n",
    "# llm = ChatOpenAI(model=\"gpt-4o\", api_key=os.getenv('OPENAI_API_KEY'), base_url=os.getenv('OPENAI_BASE_URL'))\n",
    "\n",
    "agent = create_openai_functions_agent(llm, tools, prompt)\n",
    "agent_executor = AgentExecutor(agent=agent, tools=tools, verbose=True)\n",
    "\n",
    "# 运行代理\n",
    "agent_executor.invoke({\"input\": \"建设用地使用权是什么\"})"
   ],
   "id": "6f7dff62d95aa94e",
   "outputs": [
    {
     "name": "stdout",
     "output_type": "stream",
     "text": [
      "\n",
      "\n",
      "\u001B[1m> Entering new AgentExecutor chain...\u001B[0m\n",
      "\u001B[32;1m\u001B[1;3m\n",
      "Invoking: `CivilCodeRetriever` with `{'query': '建设用地使用权'}`\n",
      "\n",
      "\n",
      "\u001B[0m\u001B[36;1m\u001B[1;3m第三百四十五条　建设用地使用权可以在土地的地表、地上或者地下分别设立。\n",
      "第三百四十六条　设立建设用地使用权，应当符合节约资源、保护生态环境的要求，遵守法律、行政法规关于土地用途的规定，不得损害已经设立的用益物权。\n",
      "第三百四十七条　设立建设用地使用权，可以采取出让或者划拨等方式。\n",
      "工业、商业、旅游、娱乐和商品住宅等经营性用地以及同一土地有两个以上意向用地者的，应当采取招标、拍卖等公开竞价的方式出让。\n",
      "严格限制以划拨方式设立建设用地使用权。\n",
      "第三百四十八条　通过招标、拍卖、协议等出让方式设立建设用地使用权的，当事人应当采用书面形式订立建设用地使用权出让合同。\n",
      "建设用地使用权出让合同一般包括下列条款：\n",
      "（一）当事人的名称和住所；\n",
      "（二）土地界址、面积等；\n",
      "（三）建筑物、构筑物及其附属设施占用的空间；\n",
      "（四）土地用途、规划条件；\n",
      "（五）建设用地使用权期限；\n",
      "（六）出让金等费用及其支付方式；\n",
      "（七）解决争议的方法。\n",
      "第三百四十九条　设立建设用地使用权的，应当向登记机构申请建设用地使用权登记。建设用地使用权自登记时设立。登记机构应当向建设用地使用权人发放权属证书。\n",
      "\n",
      "第三百五十条　建设用地使用权人应当合理利用土地，不得改变土地用途；需要改变土地用途的，应当依法经有关行政主管部门批准。\n",
      "第三百五十一条　建设用地使用权人应当依照法律规定以及合同约定支付出让金等费用。\n",
      "第三百五十二条　建设用地使用权人建造的建筑物、构筑物及其附属设施的所有权属于建设用地使用权人，但是有相反证据证明的除外。\n",
      "第三百五十三条　建设用地使用权人有权将建设用地使用权转让、互换、出资、赠与或者抵押，但是法律另有规定的除外。\n",
      "第三百五十四条　建设用地使用权转让、互换、出资、赠与或者抵押的，当事人应当采用书面形式订立相应的合同。使用期限由当事人约定，但是不得超过建设用地使用权的剩余期限。\n",
      "第三百五十五条　建设用地使用权转让、互换、出资或者赠与的，应当向登记机构申请变更登记。\n",
      "第三百五十六条　建设用地使用权转让、互换、出资或者赠与的，附着于该土地上的建筑物、构筑物及其附属设施一并处分。\n",
      "第三百五十七条　建筑物、构筑物及其附属设施转让、互换、出资或者赠与的，该建筑物、构筑物及其附属设施占用范围内的建设用地使用权一并处分。\n",
      "\n",
      "第三百五十八条　建设用地使用权期限届满前，因公共利益需要提前收回该土地的，应当依据本法第二百四十三条的规定对该土地上的房屋以及其他不动产给予补偿，并退还相应的出让金。\n",
      "第三百五十九条　住宅建设用地使用权期限届满的，自动续期。续期费用的缴纳或者减免，依照法律、行政法规的规定办理。\n",
      "非住宅建设用地使用权期限届满后的续期，依照法律规定办理。该土地上的房屋以及其他不动产的归属，有约定的，按照约定；没有约定或者约定不明确的，依照法律、行政法规的规定办理。\n",
      "第三百六十条　建设用地使用权消灭的，出让人应当及时办理注销登记。登记机构应当收回权属证书。\n",
      "第三百六十一条　集体所有的土地作为建设用地的，应当依照土地管理的法律规定办理。\n",
      "第十三章　宅基地使用权\n",
      "第三百六十二条　宅基地使用权人依法对集体所有的土地享有占有和使用的权利，有权依法利用该土地建造住宅及其附属设施。\n",
      "第三百六十三条　宅基地使用权的取得、行使和转让，适用土地管理的法律和国家有关规定。\n",
      "第三百六十四条　宅基地因自然灾害等原因灭失的，宅基地使用权消灭。对失去宅基地的村民，应当依法重新分配宅基地。\u001B[0m\u001B[32;1m\u001B[1;3m根据《中华人民共和国民法典》的规定，建设用地使用权是指依法在土地的地表、地上或者地下设立的用于建设项目的权利。以下是关于建设用地使用权的具体内容：\n",
      "\n",
      "### 设立方式：\n",
      "1. **形式**：建设用地使用权可以在土地的地表、地上或者地下分别设立。\n",
      "2. **方式**：设立建设用地使用权可以采取**出让**或者**划拨**等方式。\n",
      "   - 工业、商业、旅游、娱乐和商品住宅等经营性用地，以及同一土地有两个以上意向用地者的，应当采取**招标、拍卖**等公开竞价的方式出让。\n",
      "   - 划拨方式设立建设用地使用权受到严格限制。\n",
      "\n",
      "3. **合同**：通过招标、拍卖、协议等出让方式设立建设用地使用权的，当事人应当采用书面形式订立建设用地使用权出让合同。合同一般包括以下条款：\n",
      "   - 当事人的名称和住所；\n",
      "   - 土地界址、面积等；\n",
      "   - 建筑物、构筑物及其附属设施占用的空间；\n",
      "   - 土地用途、规划条件；\n",
      "   - 建设用地使用权期限；\n",
      "   - 出让金等费用及其支付方式；\n",
      "   - 解决争议的方法。\n",
      "\n",
      "4. **登记**：设立建设用地使用权的，应当向登记机构申请建设用地使用权登记。建设用地使用权自登记时设立，登记机构应向建设用地使用权人发放权属证书。\n",
      "\n",
      "---\n",
      "\n",
      "### 使用权人的义务：\n",
      "1. **合理利用土地**：建设用地使用权人应当合理利用土地，不得擅自改变土地用途；需要改变土地用途的，应当依法经有关行政主管部门批准。\n",
      "2. **支付费用**：建设用地使用权人应依照法律规定以及合同约定支付出让金等费用。\n",
      "3. **建筑物归属**：建设用地使用权人建造的建筑物、构筑物及其附属设施的所有权属于建设用地使用权人，但有相反证据证明的除外。\n",
      "\n",
      "---\n",
      "\n",
      "### 转让与处分：\n",
      "1. **处分权利**：建设用地使用权人有权将建设用地使用权**转让、互换、出资、赠与或者抵押**（法律另有规定的除外）。\n",
      "2. **合同形式**：转让、互换、出资、赠与或者抵押的，当事人应当采用书面形式订立相应的合同，使用期限由当事人约定，但不得超过建设用地使用权的剩余期限。\n",
      "3. **变更登记**：建设用地使用权转让、互换、出资或者赠与的，应当向登记机构申请变更登记。\n",
      "4. **附随处分**：\n",
      "   - 建设用地使用权转让、互换、出资或者赠与的，附着于该土地上的建筑物、构筑物及其附属设施一并处分。\n",
      "   - 建筑物、构筑物及其附属设施转让、互换、出资或者赠与的，该建筑物、构筑物及其附属设施占用范围内的建设用地使用权一并处分。\n",
      "\n",
      "---\n",
      "\n",
      "### 期限与续期：\n",
      "1. **提前收回**：建设用地使用权期限届满前，因公共利益需要提前收回该土地的，应当依据《民法典》相关规定对该土地上的房屋以及其他不动产给予补偿，并退还相应的出让金。\n",
      "2. **住宅用地续期**：住宅建设用地使用权期限届满的，**自动续期**。续期费用的缴纳或者减免，依照法律、行政法规的规定办理。\n",
      "3. **非住宅用地续期**：非住宅建设用地使用权期限届满后的续期，依照法律规定办理。该土地上的房屋以及其他不动产的归属，有约定的按照约定；没有约定或者约定不明确的，依照法律、行政法规的规定办理。\n",
      "\n",
      "---\n",
      "\n",
      "### 消灭与注销：\n",
      "1. **注销登记**：建设用地使用权消灭的，出让人应当及时办理注销登记，登记机构应当收回权属证书。\n",
      "2. **集体建设用地**：集体所有的土地作为建设用地的，应当依照土地管理的法律规定办理。\n",
      "\n",
      "如果您有更具体的问题，可以继续提问！\u001B[0m\n",
      "\n",
      "\u001B[1m> Finished chain.\u001B[0m\n"
     ]
    },
    {
     "data": {
      "text/plain": [
       "{'input': '建设用地使用权是什么',\n",
       " 'output': '根据《中华人民共和国民法典》的规定，建设用地使用权是指依法在土地的地表、地上或者地下设立的用于建设项目的权利。以下是关于建设用地使用权的具体内容：\\n\\n### 设立方式：\\n1. **形式**：建设用地使用权可以在土地的地表、地上或者地下分别设立。\\n2. **方式**：设立建设用地使用权可以采取**出让**或者**划拨**等方式。\\n   - 工业、商业、旅游、娱乐和商品住宅等经营性用地，以及同一土地有两个以上意向用地者的，应当采取**招标、拍卖**等公开竞价的方式出让。\\n   - 划拨方式设立建设用地使用权受到严格限制。\\n\\n3. **合同**：通过招标、拍卖、协议等出让方式设立建设用地使用权的，当事人应当采用书面形式订立建设用地使用权出让合同。合同一般包括以下条款：\\n   - 当事人的名称和住所；\\n   - 土地界址、面积等；\\n   - 建筑物、构筑物及其附属设施占用的空间；\\n   - 土地用途、规划条件；\\n   - 建设用地使用权期限；\\n   - 出让金等费用及其支付方式；\\n   - 解决争议的方法。\\n\\n4. **登记**：设立建设用地使用权的，应当向登记机构申请建设用地使用权登记。建设用地使用权自登记时设立，登记机构应向建设用地使用权人发放权属证书。\\n\\n---\\n\\n### 使用权人的义务：\\n1. **合理利用土地**：建设用地使用权人应当合理利用土地，不得擅自改变土地用途；需要改变土地用途的，应当依法经有关行政主管部门批准。\\n2. **支付费用**：建设用地使用权人应依照法律规定以及合同约定支付出让金等费用。\\n3. **建筑物归属**：建设用地使用权人建造的建筑物、构筑物及其附属设施的所有权属于建设用地使用权人，但有相反证据证明的除外。\\n\\n---\\n\\n### 转让与处分：\\n1. **处分权利**：建设用地使用权人有权将建设用地使用权**转让、互换、出资、赠与或者抵押**（法律另有规定的除外）。\\n2. **合同形式**：转让、互换、出资、赠与或者抵押的，当事人应当采用书面形式订立相应的合同，使用期限由当事人约定，但不得超过建设用地使用权的剩余期限。\\n3. **变更登记**：建设用地使用权转让、互换、出资或者赠与的，应当向登记机构申请变更登记。\\n4. **附随处分**：\\n   - 建设用地使用权转让、互换、出资或者赠与的，附着于该土地上的建筑物、构筑物及其附属设施一并处分。\\n   - 建筑物、构筑物及其附属设施转让、互换、出资或者赠与的，该建筑物、构筑物及其附属设施占用范围内的建设用地使用权一并处分。\\n\\n---\\n\\n### 期限与续期：\\n1. **提前收回**：建设用地使用权期限届满前，因公共利益需要提前收回该土地的，应当依据《民法典》相关规定对该土地上的房屋以及其他不动产给予补偿，并退还相应的出让金。\\n2. **住宅用地续期**：住宅建设用地使用权期限届满的，**自动续期**。续期费用的缴纳或者减免，依照法律、行政法规的规定办理。\\n3. **非住宅用地续期**：非住宅建设用地使用权期限届满后的续期，依照法律规定办理。该土地上的房屋以及其他不动产的归属，有约定的按照约定；没有约定或者约定不明确的，依照法律、行政法规的规定办理。\\n\\n---\\n\\n### 消灭与注销：\\n1. **注销登记**：建设用地使用权消灭的，出让人应当及时办理注销登记，登记机构应当收回权属证书。\\n2. **集体建设用地**：集体所有的土地作为建设用地的，应当依照土地管理的法律规定办理。\\n\\n如果您有更具体的问题，可以继续提问！'}"
      ]
     },
     "execution_count": 20,
     "metadata": {},
     "output_type": "execute_result"
    }
   ],
   "execution_count": 20
  }
 ],
 "metadata": {
  "kernelspec": {
   "display_name": "Python 3",
   "language": "python",
   "name": "python3"
  },
  "language_info": {
   "codemirror_mode": {
    "name": "ipython",
    "version": 2
   },
   "file_extension": ".py",
   "mimetype": "text/x-python",
   "name": "python",
   "nbconvert_exporter": "python",
   "pygments_lexer": "ipython2",
   "version": "2.7.6"
  }
 },
 "nbformat": 4,
 "nbformat_minor": 5
}
