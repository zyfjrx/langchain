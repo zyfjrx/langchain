{
 "cells": [
  {
   "cell_type": "code",
   "id": "initial_id",
   "metadata": {
    "collapsed": true,
    "ExecuteTime": {
     "end_time": "2025-08-07T07:39:06.834107Z",
     "start_time": "2025-08-07T07:39:06.829411Z"
    }
   },
   "source": [
    "# 1.导入相关依赖\n",
    "from langchain.document_loaders import TextLoader\n",
    "\n",
    "# 2.定义TextLoader对象，file_path=\".txt的位置\"\n",
    "text_loader = TextLoader(file_path=\"./asset/load/01-langchain-utf-8.txt\", encoding=\"utf-8\")\n",
    "\n",
    "# 3.加载\n",
    "docs = text_loader.load()  #List列表(Document对象)\n",
    "\n",
    "# 4.打印\n",
    "print(docs)"
   ],
   "outputs": [
    {
     "name": "stdout",
     "output_type": "stream",
     "text": [
      "[Document(metadata={'source': './asset/load/01-langchain-utf-8.txt'}, page_content='LangChain 是一个用于构建基于大语言模型（LLM）应用的开发框架，旨在帮助开发者更高效地集成、管理和增强大语言模型的能力，构建端到端的应用程序。它提供了一套模块化工具和接口，支持从简单的文本生成到复杂的多步骤推理任务')]\n"
     ]
    }
   ],
   "execution_count": 2
  },
  {
   "metadata": {
    "ExecuteTime": {
     "end_time": "2025-08-07T07:40:36.604213Z",
     "start_time": "2025-08-07T07:40:36.600532Z"
    }
   },
   "cell_type": "code",
   "source": "type(docs[0]) #langchain_core.documents.base.Document\n",
   "id": "5937fdefab93de55",
   "outputs": [
    {
     "data": {
      "text/plain": [
       "langchain_core.documents.base.Document"
      ]
     },
     "execution_count": 6,
     "metadata": {},
     "output_type": "execute_result"
    }
   ],
   "execution_count": 6
  },
  {
   "metadata": {
    "ExecuteTime": {
     "end_time": "2025-08-07T07:41:14.732756Z",
     "start_time": "2025-08-07T07:41:14.730505Z"
    }
   },
   "cell_type": "code",
   "source": "docs[0].page_content",
   "id": "dc58b812b97a27af",
   "outputs": [
    {
     "data": {
      "text/plain": [
       "'LangChain 是一个用于构建基于大语言模型（LLM）应用的开发框架，旨在帮助开发者更高效地集成、管理和增强大语言模型的能力，构建端到端的应用程序。它提供了一套模块化工具和接口，支持从简单的文本生成到复杂的多步骤推理任务'"
      ]
     },
     "execution_count": 12,
     "metadata": {},
     "output_type": "execute_result"
    }
   ],
   "execution_count": 12
  },
  {
   "metadata": {
    "ExecuteTime": {
     "end_time": "2025-08-07T07:40:52.227492Z",
     "start_time": "2025-08-07T07:40:52.223549Z"
    }
   },
   "cell_type": "code",
   "source": "docs[0].metadata  # {'source': './data/langchain.txt'}",
   "id": "a9b2dbd1ac536fb0",
   "outputs": [
    {
     "data": {
      "text/plain": [
       "{'source': './asset/load/01-langchain-utf-8.txt'}"
      ]
     },
     "execution_count": 8,
     "metadata": {},
     "output_type": "execute_result"
    }
   ],
   "execution_count": 8
  },
  {
   "metadata": {},
   "cell_type": "markdown",
   "source": "### pdf",
   "id": "2ada6f4ef062425a"
  },
  {
   "metadata": {
    "ExecuteTime": {
     "end_time": "2025-08-07T07:41:59.480608Z",
     "start_time": "2025-08-07T07:41:58.978486Z"
    }
   },
   "cell_type": "code",
   "source": [
    "# 1.导入相关的依赖  PyPDFLoader()\n",
    "from langchain.document_loaders import PyPDFLoader\n",
    "\n",
    "# 2.定义PyPDFLoader\n",
    "pdfLoader = PyPDFLoader(file_path=\"./asset/load/02-load.pdf\")\n",
    "\n",
    "# 3.加载\n",
    "docs = pdfLoader.load()\n",
    "\n",
    "print(docs)\n",
    "\n",
    "# # 4.遍历集合\n",
    "# for doc in docs:\n",
    "#     print(f\"加载的文档:{doc.page_content}\")"
   ],
   "id": "713f7d2f84fdf4da",
   "outputs": [
    {
     "name": "stderr",
     "output_type": "stream",
     "text": [
      "/opt/anaconda3/envs/langchain/lib/python3.10/site-packages/requests/__init__.py:86: RequestsDependencyWarning: Unable to find acceptable character detection dependency (chardet or charset_normalizer).\n",
      "  warnings.warn(\n"
     ]
    },
    {
     "name": "stdout",
     "output_type": "stream",
     "text": [
      "[Document(metadata={'producer': 'Microsoft® Word 2019', 'creator': 'Microsoft® Word 2019', 'creationdate': '2025-06-20T17:18:19+08:00', 'moddate': '2025-06-20T17:18:19+08:00', 'source': './asset/load/02-load.pdf', 'total_pages': 1, 'page': 0, 'page_label': '1'}, page_content='\"他的车，他的命！ 他忽然想起来，一年，二年，至少有三四年；一滴汗，两滴汗，不\\n知道多少万滴汗，才挣出那辆车。从风里雨里的咬牙，从饭里茶里的自苦，才赚出那辆车。\\n那辆车是他的一切挣扎与困苦的总结果与报酬，像身经百战的武士的一颗徽章。……他老想\\n着远远的一辆车，可以使他自由，独立，像自己的手脚的那么一辆车。\" \\n \\n\"他吃，他喝，他嫖，他赌，他懒，他狡猾， 因为他没了心，他的心被人家摘了去。他\\n只剩下那个高大的肉架子，等着溃烂，预备着到乱死岗子去。……体面的、要强的、好梦想\\n的、利己的、个人的、健壮的、伟大的祥子，不知陪着人家送了多少回殡；不知道何时何地\\n会埋起他自己来， 埋起这堕落的、 自私的、 不幸的、 社会病胎里的产儿， 个人主义的末路鬼！\\n\"')]\n"
     ]
    }
   ],
   "execution_count": 13
  },
  {
   "metadata": {
    "ExecuteTime": {
     "end_time": "2025-08-07T07:44:43.249328Z",
     "start_time": "2025-08-07T07:44:42.498649Z"
    }
   },
   "cell_type": "code",
   "source": [
    "#1.导入相关依赖\n",
    "from langchain.document_loaders import PyPDFLoader\n",
    "\n",
    "# 2.定义PyPDFLoader对象,加载在线的pdf文件\n",
    "py_pdfLoader = PyPDFLoader(file_path=\"https://arxiv.org/pdf/2302.03803\")\n",
    "\n",
    "# 3.加载\n",
    "docs = py_pdfLoader.load()\n",
    "\n",
    "print(len(docs))  # 8\n",
    "\n",
    "# 4.打印\n",
    "# print(docs)\n",
    "for doc in docs:\n",
    "    print(doc)"
   ],
   "id": "db2dc15b4d320292",
   "outputs": [
    {
     "name": "stdout",
     "output_type": "stream",
     "text": [
      "8\n",
      "page_content='arXiv:2302.03803v1  [math.AG]  7 Feb 2023\n",
      "A WEAK (k, k )-LEFSCHETZ THEOREM FOR PROJECTIVE\n",
      "TORIC ORBIFOLDS\n",
      "William D. Montoya\n",
      "Instituto de Matem´ atica, Estat´ ıstica e Computa¸ c˜ ao Cient´ ıﬁca,\n",
      "Universidade Estadual de Campinas (UNICAMP),\n",
      "Rua S´ ergio Buarque de Holanda 651, 13083-859, Campinas, SP , Brazil\n",
      "February 9, 2023\n",
      "Abstract\n",
      "Firstly we show a generalization of the (1,1)-Lefschetz theorem for projective\n",
      "toric orbifolds and secondly we prove that on 2k-dimensional quasi-smooth hyper-\n",
      "surfaces coming from quasi-smooth intersection surfaces, under the Cayley trick,\n",
      "every rational (k, k)-cohomology class is algebraic, i.e., the Hodge conjectureholds\n",
      "on them.\n",
      "1 Introduction\n",
      "In [3] we proved that, under suitable conditions, on a very general codimension s quasi-\n",
      "smooth intersection subvariety X in a projective toric orbifold Pd\n",
      "Σ with d +s = 2(k +1)\n",
      "the Hodge conjecture holds, that is, every (p, p )-cohomology class, under the Poincar´ e\n",
      "duality is a rational linear combination of fundamental classes of alge braic subvarieties\n",
      "of X. The proof of the above-mentioned result relies, for p ≠ d +1 − s, on a Lefschetz\n",
      "Date: February 9, 2023\n",
      "2020 Mathematics Subject Classiﬁcation: 14C30, 14M10, 14J70, 14M25\n",
      "Keywords: (1,1)- Lefschetz theorem, Hodge conjecture, toric varieties, complete intersection\n",
      "Email: wmontoya@ime.unicamp.br\n",
      "1' metadata={'producer': 'dvips + GPL Ghostscript GIT PRERELEASE 9.22', 'creator': 'LaTeX with hyperref', 'creationdate': '2023-02-08T20:27:28-05:00', 'moddate': '2023-02-08T20:27:28-05:00', 'title': '', 'subject': '', 'author': '', 'keywords': '', 'source': 'https://arxiv.org/pdf/2302.03803', 'total_pages': 8, 'page': 0, 'page_label': '1'}\n",
      "page_content='theorem ([7]) and the Hard Lefschetz theorem for projective orb ifolds ([11]). When p =\n",
      "d +1 −s the proof relies on the Cayley trick, a trick which associates to X a quasi-smooth\n",
      "hypersurface Y in a projective vector bundle, and the Cayley Proposition (4.3) which\n",
      "gives an isomorphism of some primitive cohomologies (4.2) of X and Y . The Cayley\n",
      "trick, following the philosophy of Mavlyutov in [7], reduces results kn own for quasi-smooth\n",
      "hypersurfaces to quasi-smooth intersection subvarieties. The id ea in this paper goes the\n",
      "other way around, we translate some results for quasi-smooth int ersection subvarieties to\n",
      "quasi-smooth hypersurfaces, mainly the (1, 1)-Lefschetz theorem.\n",
      "Acknowledgement. I thank Prof. Ugo Bruzzo and Tiago Fonseca for useful discus-\n",
      "sions. I also acknowledge support from FAPESP postdoctoral gra nt No. 2019/23499-7.\n",
      "2 Preliminaries and Notation\n",
      "2.1 Toric varieties\n",
      "Let M be a free abelian group of rank d, let N =Hom(M, Z ), and NR =N ⊗Z R.\n",
      "Deﬁnition 2.1. • A convex subset σ ⊂NR is a rational k-dimensional simplicial cone\n",
      "if there exist k linearly independent primitive elements e1, . . . , e k ∈ N such that σ =\n",
      "{µ1e1 +⋯+ µkek}.\n",
      "• The generators ei are integral if for every i and any nonnegative rational number µ\n",
      "the product µei is in N only if µ is an integer.\n",
      "• Given two rational simplicial cones σ, σ′ one says that σ′ is a face of σ (σ′ < σ) if\n",
      "the set of integral generators of σ′ is a subset of the set of integral generators of σ.\n",
      "• A ﬁnite set Σ ={σ1, . . . , σ t} of rational simplicial cones is called a rational simplicia l\n",
      "complete d-dimensional fan if:\n",
      "1. all faces of cones in Σ are in Σ ;\n",
      "2. if σ, σ ′ ∈Σ then σ ∩σ′ <σ and σ ∩σ′ <σ′;\n",
      "3. NR =σ1 ∪⋅⋅⋅∪ σt.\n",
      "A rational simplicial complete d-dimensional fan Σ deﬁnes a d-dimensional toric variety\n",
      "Pd\n",
      "Σ having only orbifold singularities which we assume to be projective. Mo reover, T ∶=\n",
      "N ⊗Z C∗ ≃ (C∗)d is the torus action on Pd\n",
      "Σ . We denote by Σ (i) the i-dimensional cones\n",
      "2' metadata={'producer': 'dvips + GPL Ghostscript GIT PRERELEASE 9.22', 'creator': 'LaTeX with hyperref', 'creationdate': '2023-02-08T20:27:28-05:00', 'moddate': '2023-02-08T20:27:28-05:00', 'title': '', 'subject': '', 'author': '', 'keywords': '', 'source': 'https://arxiv.org/pdf/2302.03803', 'total_pages': 8, 'page': 1, 'page_label': '2'}\n",
      "page_content='of Σ and each ρ ∈Σ corresponds to an irreducible T -invariant Weil divisor Dρ on Pd\n",
      "Σ . Let\n",
      "Cl(Σ ) be the group of Weil divisors on Pd\n",
      "Σ module rational equivalences.\n",
      "The total coordinate ring of Pd\n",
      "Σ is the polynomial ring S = C[xρ /divides.alt0 ρ ∈ Σ (1)], S has the\n",
      "Cl(Σ )-grading, a Weil divisor D =∑ρ∈Σ (1) uρDρ determines the monomial xu ∶=∏ρ∈Σ (1) xuρ\n",
      "ρ ∈\n",
      "S and conversely deg (xu)=[D]∈Cl(Σ ).\n",
      "For a cone σ ∈ Σ, ˆσ is the set of 1-dimensional cone in Σ that are not contained in σ\n",
      "and xˆσ ∶=∏ρ∈ˆσ xρ is the associated monomial in S.\n",
      "Deﬁnition 2.2. The irrelevant ideal of Pd\n",
      "Σ is the monomial ideal BΣ ∶=< xˆσ /divides.alt0 σ ∈ Σ > and\n",
      "the zero locus Z(Σ )∶=V(BΣ ) in the aﬃne space Ad ∶=Spec(S) is the irrelevant locus.\n",
      "Proposition 2.3 (Theorem 5.1.11 [5]) . The toric variety Pd\n",
      "Σ is a categorical quotient\n",
      "Ad ∖Z(Σ ) by the group Hom(Cl(Σ ), C∗) and the group action is induced by the Cl(Σ )-\n",
      "grading of S.\n",
      "2.2 Orbifolds\n",
      "Now we give a brief introduction to complex orbifolds and we mention th e needed theorems\n",
      "for the next section. Namely: de Rham theorem and Dolbeault theor em for complex\n",
      "orbifolds.\n",
      "Deﬁnition 2.4. A complex orbifold of complex dimension d is a singular complex space\n",
      "whose singularities are locally isomorphic to quotient sin gularities Cd/slash.left G, for ﬁnite sub-\n",
      "groups G ⊂Gl(d, C).\n",
      "Deﬁnition 2.5. A diﬀerential form on a complex orbifold Z is deﬁned locally at z ∈Z as\n",
      "a G-invariant diﬀerential form on Cd where G ⊂ Gl(d, C) and Z is locally isomorphic to\n",
      "Cd/slash.left G around z.\n",
      "Roughly speaking the local geometry of orbifolds reduces to local G-invariant geometry.\n",
      "We have a complex of diﬀerential forms (A●(Z), d )and a double complex (A●, ●(Z), ∂, ¯∂)\n",
      "of bigraded diﬀerential forms which deﬁne the de Rham and the Dolbe ault cohomology\n",
      "groups (for a ﬁxed p ∈N) respectively:\n",
      "H●\n",
      "dR(Z, C)∶= kerd\n",
      "im d and Hp, ●(Z, ¯∂)∶= ker ¯∂\n",
      "im ¯∂\n",
      "Theorem 2.6 (Theorem 3.4.4 in [4] and Theorem 1.2 in [1] ) . Let Z be a compact complex\n",
      "orbifold. There are natural isomorphisms:\n",
      "3' metadata={'producer': 'dvips + GPL Ghostscript GIT PRERELEASE 9.22', 'creator': 'LaTeX with hyperref', 'creationdate': '2023-02-08T20:27:28-05:00', 'moddate': '2023-02-08T20:27:28-05:00', 'title': '', 'subject': '', 'author': '', 'keywords': '', 'source': 'https://arxiv.org/pdf/2302.03803', 'total_pages': 8, 'page': 2, 'page_label': '3'}\n",
      "page_content='• H●\n",
      "dR(Z, C)≃H●(Z, C)\n",
      "• Hp, ●(Z, ¯∂)≃H●(X, Ω p\n",
      "Z )\n",
      "3 (1,1)-Lefschetz theorem for projective toric orbifolds\n",
      "Deﬁnition 3.1. A subvariety X ⊂Pd\n",
      "Σ is quasi-smooth if V(IX )⊂A#Σ (1) is smooth outside\n",
      "Z(Σ ).\n",
      "Example 3.2. Quasi-smooth hypersurfaces or more generally quasi-smooth inte rsection sub-\n",
      "varieties are quasi-smooth subvarieties (see [2] or [7] for more det ails).\n",
      "△\n",
      "Remark 3.3. Quasi-smooth subvarieties are suborbifolds of Pd\n",
      "Σ in the sense of Satake in [8].\n",
      "Intuitively speaking they are subvarieties whose only singularities co me from the ambient\n",
      "space.\n",
      "△\n",
      "Theorem 3.4. Let X ⊂ Pd\n",
      "Σ be a quasi-smooth subvariety. Then every (1, 1)-cohomology\n",
      "class λ ∈H1, 1(X)∩H2(X, Z) is algebraic\n",
      "Proof. From the exponential short exact sequence\n",
      "0 →Z →OX →O∗\n",
      "X →0\n",
      "we have a long exact sequence in cohomology\n",
      "H1(O∗\n",
      "X )→H2(X, Z) →H2(OX )≃H0, 2(X)\n",
      "where the last isomorphisms is due to Steenbrink in [9]. Now, it is enoug h to prove the\n",
      "commutativity of the next diagram\n",
      "H2(X, Z) → → \n",
      "↓ ↓ \n",
      "H2(X, OX )\n",
      "≃ Dolbeault\n",
      "↓ ↓ \n",
      "H2(X, C)\n",
      "de Rham ≃\n",
      "↓ ↓ \n",
      "H2\n",
      "dR(X, C) → → H0, 2\n",
      "¯∂ (X)\n",
      "4' metadata={'producer': 'dvips + GPL Ghostscript GIT PRERELEASE 9.22', 'creator': 'LaTeX with hyperref', 'creationdate': '2023-02-08T20:27:28-05:00', 'moddate': '2023-02-08T20:27:28-05:00', 'title': '', 'subject': '', 'author': '', 'keywords': '', 'source': 'https://arxiv.org/pdf/2302.03803', 'total_pages': 8, 'page': 3, 'page_label': '4'}\n",
      "page_content='The key points are the de Rham and Dolbeault’s isomorphisms for orbif olds. The rest\n",
      "of the proof follows as the (1, 1)-Lefschetz theorem in [6].\n",
      "Remark 3.5. For k = 1 and Pd\n",
      "Σ as the projective space, we recover the classical (1, 1)-\n",
      "Lefschetz theorem.\n",
      "△\n",
      "By the Hard Lefschetz Theorem for projective orbifolds (see [11] for details) we get an\n",
      "isomorphism of cohomologies :\n",
      "H●(X, Q) ≃H2 dim X−●(X, Q)\n",
      "given by the Lefschetz morphism and since it is a morphism of Hodge st ructures, we have:\n",
      "H1, 1(X, Q) ≃Hdim X−1, dim X−1(X, Q)\n",
      "For X as before:\n",
      "Corollary 3.6. If the dimension of X is 1, 2 or 3. The Hodge conjecture holds on X.\n",
      "Proof. If the dimCX = 1 the result is clear by the Hard Lefschetz theorem for projective\n",
      "orbifolds. The dimension 2 and 3 cases are covered by Theorem 3.5 an d the Hard Lefschetz.\n",
      "theorem.4 Cayley trick and Cayley proposition\n",
      "The Cayley trick is a way to associate to a quasi-smooth intersection subvariety a quasi-\n",
      "smooth hypersurface. Let L1, . . . , L s be line bundles on Pd\n",
      "Σ and let π ∶ P(E) → Pd\n",
      "Σ be the\n",
      "projective space bundle associated to the vector bundle E =L1 ⊕⋯⊕ Ls. It is known that\n",
      "P(E) is a (d +s −1)-dimensional simplicial toric variety whose fan depends on the degre es\n",
      "of the line bundles and the fan Σ. Furthermore, if the Cox ring, witho ut considering the\n",
      "grading, of Pd\n",
      "Σ is C[x1, . . . , x m] then the Cox ring of P(E) is\n",
      "C[x1, . . . , x m, y 1, . . . , y s]\n",
      "Moreover for X a quasi-smooth intersection subvariety cut oﬀ by f1, . . . , f s with deg(fi)=\n",
      "[Li] we relate the hypersurface Y cut oﬀ by F = y1f1 +⋅⋅⋅+ ysfs which turns out to be\n",
      "quasi-smooth. For more details see Section 2 in [7].\n",
      "5' metadata={'producer': 'dvips + GPL Ghostscript GIT PRERELEASE 9.22', 'creator': 'LaTeX with hyperref', 'creationdate': '2023-02-08T20:27:28-05:00', 'moddate': '2023-02-08T20:27:28-05:00', 'title': '', 'subject': '', 'author': '', 'keywords': '', 'source': 'https://arxiv.org/pdf/2302.03803', 'total_pages': 8, 'page': 4, 'page_label': '5'}\n",
      "page_content='We will denote P(E) as Pd+s−1\n",
      "Σ ,X to keep track of its relation with X and Pd\n",
      "Σ .\n",
      "The following is a key remark.\n",
      "Remark 4.1. There is a morphism ι∶X →Y ⊂Pd+s−1\n",
      "Σ ,X . Moreover every point z ∶=(x, y )∈Y\n",
      "with y ≠ 0 has a preimage. Hence for any subvariety W = V(IW ) ⊂ X ⊂ Pd\n",
      "Σ there exists\n",
      "W ′ ⊂Y ⊂Pd+s−1\n",
      "Σ ,X such that π(W ′)=W , i.e., W ′ ={z =(x, y ) /divides.alt0 x ∈W }.\n",
      "△\n",
      "For X ⊂ Pd\n",
      "Σ a quasi-smooth intersection variety the morphism in cohomology indu ced\n",
      "by the inclusion i∗ ∶Hd−s(Pd\n",
      "Σ , C)→Hd−s(X, C) is injective by Proposition 1.4 in [7].\n",
      "Deﬁnition 4.2. The primitive cohomology of Hd−s\n",
      "prim(X)is the quotient Hd−s(X, C)/slash.left i∗(Hd−s(Pd\n",
      "Σ , C))\n",
      "and Hd−s\n",
      "prim(X, Q) with rational coeﬃcients.\n",
      "Hd−s(Pd\n",
      "Σ , C) and Hd−s(X, C) have pure Hodge structures, and the morphism i∗ is com-\n",
      "patible with them, so that Hd−s\n",
      "prim(X) gets a pure Hodge structure.\n",
      "The next Proposition is the Cayley proposition.\n",
      "Proposition 4.3. [Proposition 2.3 in [3] ] Let X =X1 ∩⋅⋅⋅∩ Xs be a quasi-smooth intersec-\n",
      "tion subvariety in Pd\n",
      "Σ cut oﬀ by homogeneous polynomials f1 . . . f s. Then for p ≠ d+s−1\n",
      "2 , d+s−3\n",
      "2\n",
      "Hp−1,d +s−1−p\n",
      "prim (Y )≃Hp−s,d −p\n",
      "prim (X).\n",
      "Corollary 4.4. If d +s =2(k +1),\n",
      "Hk+1−s,k +1−s\n",
      "prim (X)≃Hk,k\n",
      "prim(Y )\n",
      "Remark 4.5. The above isomorphisms are also true with rational coeﬃcients since H●(X, C) =\n",
      "H●(X, Q)⊗Q C. See the beginning of Section 7.1 in [10] for more details.\n",
      "△\n",
      "5 Main result\n",
      "Theorem 5.1. Let Y ={F =y1f1 +⋯+ ykfk =0}⊂P2k+1\n",
      "Σ ,X be the quasi-smooth hypersurface\n",
      "associated to the quasi-smooth intersection surface X = Xf1 ∩⋅⋅⋅∩ Xfk ⊂ Pk+2\n",
      "Σ . Then on Y\n",
      "the Hodge conjecture holds.\n",
      "Proof. If Hk,k\n",
      "prim(X, Q) = 0 we are done. So let us assume Hk,k\n",
      "prim(X, Q) ≠ 0. By the Cayley\n",
      "proposition Hk,k\n",
      "prim(Y, Q) ≃ H1, 1\n",
      "prim(X, Q) and by the (1, 1)-Lefschetz theorem for projective\n",
      "6' metadata={'producer': 'dvips + GPL Ghostscript GIT PRERELEASE 9.22', 'creator': 'LaTeX with hyperref', 'creationdate': '2023-02-08T20:27:28-05:00', 'moddate': '2023-02-08T20:27:28-05:00', 'title': '', 'subject': '', 'author': '', 'keywords': '', 'source': 'https://arxiv.org/pdf/2302.03803', 'total_pages': 8, 'page': 5, 'page_label': '6'}\n",
      "page_content='toric orbifolds there is a non-zero algebraic basis λC1 , . . . , λ Cn with rational coeﬃcients of\n",
      "H1, 1\n",
      "prim(X, Q), that is, there are n ∶=h1, 1\n",
      "prim(X, Q) algebraic curves C1, . . . , C n in X such that\n",
      "under the Poincar´ e duality the class in homology [Ci] goes to λCi , [Ci] ↦ λCi . Recall\n",
      "that the Cox ring of Pk+2 is contained in the Cox ring of P2k+1\n",
      "Σ ,X without considering the\n",
      "grading. Considering the grading we have that if α ∈ Cl(Pk+2\n",
      "Σ ) then (α, 0) ∈ Cl(P2k+1\n",
      "Σ ,X ). So\n",
      "the polynomials deﬁning Ci ⊂ Pk+2\n",
      "Σ can be interpreted in P2k+1\n",
      "X, Σ but with diﬀerent degree.\n",
      "Moreover, by Remark 4.1 each Ci is contained in Y = {F = y1f1 + ⋯ + ykfk = 0} and\n",
      "furthermore it has codimension k.\n",
      "Claim: {λCi }n\n",
      "i=1 is a basis of Hk,k\n",
      "prim(Y, Q).\n",
      "It is enough to prove that λCi is diﬀerent from zero in Hk,k\n",
      "prim(Y, Q) or equivalently that the\n",
      "cohomology classes {λCi }n\n",
      "i=1 do not come from the ambient space. By contradiction, let us\n",
      "assume that there exists a j and C ⊂P2k+1\n",
      "Σ ,X such that λC ∈Hk,k (P2k+1\n",
      "Σ ,X , Q) with i∗(λC )=λCj\n",
      "or in terms of homology there exists a (k +2)-dimensional algebraic subvariety V ⊂ P2k+1\n",
      "Σ ,X\n",
      "such that V ∩Y = Cj so they are equal as a homology class of P2k+1\n",
      "Σ ,X ,i.e., [V ∩Y ] = [Cj] .\n",
      "It is easy to check that π(V )∩X =Cj as a subvariety of Pk+2\n",
      "Σ where π ∶ (x, y )↦x. Hence\n",
      "[π(V )∩X] = [Cj] which is equivalent to say that λCj comes from Pk+2\n",
      "Σ which contradicts\n",
      "the choice of [Cj].\n",
      "Remark 5.2. Into the proof of the previous theorem, the key fact was that on X the\n",
      "Hodge conjecture holds and we translate it to Y by contradiction. So, using an analogous\n",
      "argument we have:\n",
      "△\n",
      "Proposition 5.3. Let Y ={F =y1fs+⋯+ysfs =0}⊂P2k+1\n",
      "Σ ,X be the quasi-smooth hypersurface\n",
      "associated to a quasi-smooth intersection subvariety X = Xf1 ∩ ⋅⋅⋅ ∩ Xfs ⊂ Pd\n",
      "Σ such that\n",
      "d +s =2(k +1). If the Hodge conjecture holds on X then it holds as well on Y .\n",
      "Corollary 5.4. If the dimension of Y is 2s −1, 2s or 2s +1 then the Hodge conjecture\n",
      "holds on Y .\n",
      "Proof. By Proposition 5.3 and Corollary 3.6.\n",
      "7' metadata={'producer': 'dvips + GPL Ghostscript GIT PRERELEASE 9.22', 'creator': 'LaTeX with hyperref', 'creationdate': '2023-02-08T20:27:28-05:00', 'moddate': '2023-02-08T20:27:28-05:00', 'title': '', 'subject': '', 'author': '', 'keywords': '', 'source': 'https://arxiv.org/pdf/2302.03803', 'total_pages': 8, 'page': 6, 'page_label': '7'}\n",
      "page_content='References\n",
      "[1] Angella, D. Cohomologies of certain orbifolds. Journal of Geometry and Physics\n",
      "71 (2013), 117–126.\n",
      "[2] Batyrev, V. V., and Cox, D. A.On the Hodge structure of projective hypersur-\n",
      "faces in toric varieties. Duke Mathematical Journal 75, 2 (Aug 199 4).\n",
      "[3] Bruzzo, U., and Montoya, W. On the Hodge conjecture for quasi-smooth in-\n",
      "tersections in toric varieties. S˜ ao Paulo J. Math. Sci. Special Section: Geometry in\n",
      "Algebra and Algebra in Geometry (2021).\n",
      "[4] Caramello Jr, F. C.Introduction to orbifolds. arXiv:1909.08699v6 (2019).\n",
      "[5] Cox, D., Little, J., and Schenck, H.Toric varieties, vol. 124. American Math-\n",
      "ematical Soc., 2011.\n",
      "[6] Griffiths, P., and Harris, J. Principles of Algebraic Geometry. John Wiley &\n",
      "Sons, Ltd, 1978.\n",
      "[7] Mavlyutov, A. R. Cohomology of complete intersections in toric varieties. Pub-\n",
      "lished in Paciﬁc J. of Math. 191 No. 1 (1999), 133–144.\n",
      "[8] Satake, I. On a Generalization of the Notion of Manifold. Proceedings of the\n",
      "National Academy of Sciences of the United States of America 42, 6 (1956), 359–363.\n",
      "[9] Steenbrink, J. H. M.Intersection form for quasi-homogeneous singularities. Com-\n",
      "positio Mathematica 34 , 2 (1977), 211–223.\n",
      "[10] Voisin, C. Hodge Theory and Complex Algebraic Geometry I, vol. 1 of Cambridge\n",
      "Studies in Advanced Mathematics . Cambridge University Press, 2002.\n",
      "[11] W ang, Z. Z., and Zaffran, D.A remark on the Hard Lefschetz theorem for K¨ ahler\n",
      "orbifolds. Proceedings of the American Mathematical Society 137 , 08 (Aug 2009).\n",
      "8' metadata={'producer': 'dvips + GPL Ghostscript GIT PRERELEASE 9.22', 'creator': 'LaTeX with hyperref', 'creationdate': '2023-02-08T20:27:28-05:00', 'moddate': '2023-02-08T20:27:28-05:00', 'title': '', 'subject': '', 'author': '', 'keywords': '', 'source': 'https://arxiv.org/pdf/2302.03803', 'total_pages': 8, 'page': 7, 'page_label': '8'}\n"
     ]
    }
   ],
   "execution_count": 18
  },
  {
   "metadata": {
    "ExecuteTime": {
     "end_time": "2025-08-07T07:45:20.284141Z",
     "start_time": "2025-08-07T07:45:20.264862Z"
    }
   },
   "cell_type": "code",
   "source": [
    "# 1.导入相关的依赖  PyPDFLoader()\n",
    "from langchain.document_loaders import PyPDFLoader\n",
    "\n",
    "# 2.定义PyPDFLoader\n",
    "py_pdfLoader = PyPDFLoader(file_path=\"./asset/load/02-load.pdf\")\n",
    "\n",
    "# 3.加载\n",
    "docs = py_pdfLoader.load_and_split()\n",
    "\n",
    "print(docs)"
   ],
   "id": "940e7aa4a1dd3c97",
   "outputs": [
    {
     "name": "stdout",
     "output_type": "stream",
     "text": [
      "[Document(metadata={'producer': 'Microsoft® Word 2019', 'creator': 'Microsoft® Word 2019', 'creationdate': '2025-06-20T17:18:19+08:00', 'moddate': '2025-06-20T17:18:19+08:00', 'source': './asset/load/02-load.pdf', 'total_pages': 1, 'page': 0, 'page_label': '1'}, page_content='\"他的车，他的命！ 他忽然想起来，一年，二年，至少有三四年；一滴汗，两滴汗，不\\n知道多少万滴汗，才挣出那辆车。从风里雨里的咬牙，从饭里茶里的自苦，才赚出那辆车。\\n那辆车是他的一切挣扎与困苦的总结果与报酬，像身经百战的武士的一颗徽章。……他老想\\n着远远的一辆车，可以使他自由，独立，像自己的手脚的那么一辆车。\" \\n \\n\"他吃，他喝，他嫖，他赌，他懒，他狡猾， 因为他没了心，他的心被人家摘了去。他\\n只剩下那个高大的肉架子，等着溃烂，预备着到乱死岗子去。……体面的、要强的、好梦想\\n的、利己的、个人的、健壮的、伟大的祥子，不知陪着人家送了多少回殡；不知道何时何地\\n会埋起他自己来， 埋起这堕落的、 自私的、 不幸的、 社会病胎里的产儿， 个人主义的末路鬼！\\n\"')]\n"
     ]
    }
   ],
   "execution_count": 19
  },
  {
   "metadata": {},
   "cell_type": "markdown",
   "source": "### csv",
   "id": "2fd41e05f760ebe8"
  },
  {
   "metadata": {
    "ExecuteTime": {
     "end_time": "2025-09-01T06:14:17.947597Z",
     "start_time": "2025-09-01T06:14:17.940182Z"
    }
   },
   "cell_type": "code",
   "source": [
    "from langchain_community.document_loaders.csv_loader import CSVLoader\n",
    "\n",
    "loader = CSVLoader(file_path=\"asset/load/04-load.csv\")\n",
    "data = loader.load()\n",
    "print(data)\n",
    "\n",
    "print(type(data))  # <class 'list'>\n",
    "print(type(data[0]))  # <class 'langchain_core.documents.base.Document'>\n",
    "print(len(data))  # 4\n",
    "print(data[0].page_content)  # id: 1  title: Introduction to Python ..."
   ],
   "id": "424f4fa2ed74caad",
   "outputs": [
    {
     "name": "stdout",
     "output_type": "stream",
     "text": [
      "[Document(metadata={'source': 'asset/load/04-load.csv', 'row': 0}, page_content='id: 1\\ntitle: Introduction to Python\\ncontent: Python is a popular programming language.\\nauthor: John Doe'), Document(metadata={'source': 'asset/load/04-load.csv', 'row': 1}, page_content='id: 2\\ntitle: Data Science Basics\\ncontent: Data science involves statistics and machine learning.\\nauthor: Jane Smith'), Document(metadata={'source': 'asset/load/04-load.csv', 'row': 2}, page_content='id: 3\\ntitle: Web Development\\ncontent: HTML, CSS and JavaScript are core web technologies.\\nauthor: Mike Johnson'), Document(metadata={'source': 'asset/load/04-load.csv', 'row': 3}, page_content='id: 4\\ntitle: Artificial Intelligence\\ncontent: AI is transforming many industries.\\nauthor: Sarah Williams')]\n",
      "<class 'list'>\n",
      "<class 'langchain_core.documents.base.Document'>\n",
      "4\n",
      "id: 1\n",
      "title: Introduction to Python\n",
      "content: Python is a popular programming language.\n",
      "author: John Doe\n"
     ]
    }
   ],
   "execution_count": 4
  },
  {
   "metadata": {
    "ExecuteTime": {
     "end_time": "2025-08-07T07:49:20.641263Z",
     "start_time": "2025-08-07T07:49:20.637723Z"
    }
   },
   "cell_type": "code",
   "source": [
    "from langchain_community.document_loaders.csv_loader import CSVLoader\n",
    "\n",
    "loader = CSVLoader(\n",
    "    file_path=\"./asset/load/04-load.csv\",\n",
    "    source_column='author'\n",
    ")\n",
    "\n",
    "data = loader.load()\n",
    "print(data)"
   ],
   "id": "77e3683b8f659af8",
   "outputs": [
    {
     "name": "stdout",
     "output_type": "stream",
     "text": [
      "[Document(metadata={'source': 'John Doe', 'row': 0}, page_content='id: 1\\ntitle: Introduction to Python\\ncontent: Python is a popular programming language.\\nauthor: John Doe'), Document(metadata={'source': 'Jane Smith', 'row': 1}, page_content='id: 2\\ntitle: Data Science Basics\\ncontent: Data science involves statistics and machine learning.\\nauthor: Jane Smith'), Document(metadata={'source': 'Mike Johnson', 'row': 2}, page_content='id: 3\\ntitle: Web Development\\ncontent: HTML, CSS and JavaScript are core web technologies.\\nauthor: Mike Johnson'), Document(metadata={'source': 'Sarah Williams', 'row': 3}, page_content='id: 4\\ntitle: Artificial Intelligence\\ncontent: AI is transforming many industries.\\nauthor: Sarah Williams')]\n"
     ]
    }
   ],
   "execution_count": 21
  },
  {
   "metadata": {},
   "cell_type": "markdown",
   "source": "### json",
   "id": "fb2b6142603d0e65"
  },
  {
   "metadata": {
    "ExecuteTime": {
     "end_time": "2025-09-01T06:12:37.464513Z",
     "start_time": "2025-09-01T06:12:37.395570Z"
    }
   },
   "cell_type": "code",
   "source": [
    "# 1.导入依赖\n",
    "from  langchain_community.document_loaders import JSONLoader\n",
    "from pprint import pprint\n",
    "\n",
    "# 2.定义JSONLoader对象\n",
    "\n",
    "# json_loader=JSONLoader(\n",
    "#     file_path=\"asset/load/03-load.json\",\n",
    "#     jq_schema=\".\", #直接提取完整的JSON对象（包括所有字段）\n",
    "#     text_content=False #保持原始 JSON 结构，将提取的数据转换为SON字符串存入page_content字段中\n",
    "# )\n",
    "\n",
    "# .messages[].content:遍历.messages[]中所有元素 从每一个元素中提取.content字段\n",
    "# json_loader=JSONLoader(file_path=\"asset/load/03-load.json\", jq_schema=\".messages[].content\")\n",
    "# json_loader=JSONLoader(file_path=\"asset/load/03-response.json\", jq_schema=\".data.items[].content\")\n",
    "json_loader=JSONLoader(\n",
    "    file_path=\"asset/load/03-response.json\",\n",
    "    jq_schema=\".data.items[]\",\n",
    "    content_key=\".author.name\",\n",
    "    is_content_key_jq_parsable= True\n",
    ")\n",
    "\n",
    "# 3.加载\n",
    "docs = json_loader.load()\n",
    "pprint(docs)\n",
    "\n",
    "# 4.提取content中指定字符数的内容\n",
    "# print(docs[0].page_content[:10])"
   ],
   "id": "2d8a44c89a038c69",
   "outputs": [
    {
     "name": "stdout",
     "output_type": "stream",
     "text": [
      "[Document(metadata={'source': '/Users/zhangyf/PycharmProjects/langchain/retrieve/asset/load/03-response.json', 'seq_num': 1}, page_content='Alice'),\n",
      " Document(metadata={'source': '/Users/zhangyf/PycharmProjects/langchain/retrieve/asset/load/03-response.json', 'seq_num': 2}, page_content='Bob'),\n",
      " Document(metadata={'source': '/Users/zhangyf/PycharmProjects/langchain/retrieve/asset/load/03-response.json', 'seq_num': 3}, page_content='Charlie')]\n"
     ]
    }
   ],
   "execution_count": 2
  },
  {
   "metadata": {
    "ExecuteTime": {
     "end_time": "2025-09-01T06:38:41.037972Z",
     "start_time": "2025-09-01T06:38:38.864721Z"
    }
   },
   "cell_type": "code",
   "source": [
    "# 1.导入相关的依赖\n",
    "from langchain.document_loaders import UnstructuredMarkdownLoader\n",
    "from pprint import pprint\n",
    "\n",
    "# 2.定义UnstructuredMarkdownLoader对象\n",
    "md_loader = UnstructuredMarkdownLoader(\n",
    "    file_path=\"asset/load/06-load.md\",\n",
    "    strategy=\"fast\"\n",
    ")\n",
    "\n",
    "# 3.加载\n",
    "docs = md_loader.load()\n",
    "\n",
    "# print(len(docs))\n",
    "# 4.打印\n",
    "# for doc in docs:\n",
    "#     pprint(doc)"
   ],
   "id": "ae11870478f568d7",
   "outputs": [],
   "execution_count": 1
  },
  {
   "metadata": {
    "ExecuteTime": {
     "end_time": "2025-09-02T05:20:44.920529Z",
     "start_time": "2025-09-02T05:20:44.915609Z"
    }
   },
   "cell_type": "code",
   "source": [
    "def split_document(file_path):\n",
    "    # 读取Markdown文件内容\n",
    "    with open(file_path, 'r', encoding='utf-8') as f:\n",
    "        content = f.read()\n",
    "\n",
    "    # 按一级标题分割（匹配### 数字. 格式）\n",
    "    import re\n",
    "    # 正则表达式匹配一级标题，保留标题本身\n",
    "    blocks = re.split(r'(?=### \\d+\\.)', content.strip())\n",
    "\n",
    "    # 过滤空字符串（处理可能的开头空内容）\n",
    "    blocks = [block for block in blocks if block.strip()]\n",
    "\n",
    "    return blocks\n",
    "\n",
    "# 使用示例\n",
    "if __name__ == \"__main__\":\n",
    "    file_path = \"/Users/zhangyf/Documents/宠物数据/宠物垂直领域大模型数据源-中文/健康与医疗-中文/阿比西尼亚猫.md\"  # 替换为你的文件路径\n",
    "    split_blocks = split_document(file_path)\n",
    "\n",
    "    # 打印分割结果（验证是否为6块）\n",
    "    print(f\"分割后共 {len(split_blocks)} 块内容：\\n\")\n",
    "    for i, block in enumerate(split_blocks, 1):\n",
    "        print(f\"第 {i} 块：\")\n",
    "        print(\"-\" * 50)\n",
    "        print(block)  # 只显示前100字符预览\n",
    "        print(\"-\" * 50 + \"\\n\")"
   ],
   "id": "4ce3c9b6c2e4369a",
   "outputs": [
    {
     "name": "stdout",
     "output_type": "stream",
     "text": [
      "分割后共 6 块内容：\n",
      "\n",
      "第 1 块：\n",
      "--------------------------------------------------\n",
      "### 1. 阿比西尼亚猫常见疾病及其症状、原因和应对方法\n",
      "\n",
      "#### （1）牙龈炎/牙周病\n",
      "- **症状**：口臭、牙龈红肿、流口水、食欲下降。\n",
      "- **原因**：牙齿清洁不当导致细菌滋生，形成牙菌斑和牙结石。\n",
      "- **应对方法**：\n",
      "  - 在家处理：定期给猫咪刷牙，使用猫咪专用牙膏和牙刷。\n",
      "  - 就医：如果牙龈严重发炎或牙齿松动，需及时就医进行专业洁牙或拔牙。\n",
      "\n",
      "#### （2）泌尿系统疾病（如尿路堵塞）\n",
      "- **症状**：频繁舔舐生殖器、排尿困难、血尿、精神萎靡。\n",
      "- **原因**：饮食不当、水分摄入不足、压力过大。\n",
      "- **应对方法**：需立即就医，医生可能需要导尿或手术疏通尿路。\n",
      "\n",
      "#### （3）呼吸道感染\n",
      "- **症状**：打喷嚏、流鼻涕、咳嗽、眼睛分泌物增多。\n",
      "- **原因**：病毒感染（如猫鼻气管炎病毒）、细菌感染。\n",
      "- **应对方法**：\n",
      "  - 在家处理：保持环境温暖干燥，注意通风。\n",
      "  - 就医：若症状持续超过2天或出现发烧，需就医治疗。\n",
      "\n",
      "#### （4）肠胃炎\n",
      "- **症状**：呕吐、腹泻、食欲不振、脱水。\n",
      "- **原因**：食物中毒、寄生虫感染、过敏。\n",
      "- **应对方法**：\n",
      "  - 在家处理：禁食12小时后喂少量清淡食物，补充水分。\n",
      "  - 就医：若呕吐或腹泻严重且伴有脱水，需及时就医。\n",
      "\n",
      "---\n",
      "\n",
      "\n",
      "--------------------------------------------------\n",
      "\n",
      "第 2 块：\n",
      "--------------------------------------------------\n",
      "### 2. 阿比西尼亚猫应接种的主要疫苗及接种时间表\n",
      "\n",
      "#### （1）核心疫苗\n",
      "- **疫苗名称**：猫三联疫苗（预防猫瘟、猫鼻气管炎、杯状病毒）\n",
      "  - **作用**：增强免疫力，预防致命性传染病。\n",
      "  - **接种时间**：8周龄首次接种，间隔3-4周加强一次，成年后每年加强一次。\n",
      "  - **是否强制**：建议强制，尤其是多猫家庭或外出猫咪。\n",
      "  - **不良反应**：注射部位轻微肿胀、嗜睡、食欲下降，通常1-2天内恢复。\n",
      "\n",
      "#### （2）狂犬疫苗\n",
      "- **疫苗名称**：狂犬疫苗\n",
      "  - **作用**：预防狂犬病，保护人和宠物健康。\n",
      "  - **接种时间**：12周龄首次接种，之后每年加强一次。\n",
      "  - **是否强制**：部分地区强制要求。\n",
      "  - **不良反应**：轻微发热、疲倦，一般无需特殊处理。\n",
      "\n",
      "#### （3）非核心疫苗（视情况而定）\n",
      "- **疫苗名称**：猫白血病疫苗\n",
      "  - **作用**：预防猫白血病病毒感染。\n",
      "  - **接种时间**：根据兽医建议决定。\n",
      "  - **是否强制**：非强制，但建议高风险猫咪接种。\n",
      "\n",
      "---\n",
      "\n",
      "\n",
      "--------------------------------------------------\n",
      "\n",
      "第 3 块：\n",
      "--------------------------------------------------\n",
      "### 3. 常见内外寄生虫类型及其防治方法\n",
      "\n",
      "#### （1）外寄生虫\n",
      "- **类型**：跳蚤、蜱虫、耳螨。\n",
      "- **症状**：瘙痒、掉毛、皮肤红肿、耳朵有黑色分泌物。\n",
      "- **推荐药物**：福来恩滴剂、大宠爱口服药。\n",
      "- **防治频率**：每月一次。\n",
      "- **使用方法**：按体重选择剂量，滴于肩胛骨处或按说明口服。\n",
      "\n",
      "#### （2）内寄生虫\n",
      "- **类型**：蛔虫、钩虫、绦虫。\n",
      "- **症状**：腹胀、消瘦、便血、呕吐。\n",
      "- **推荐药物**：拜宠清、驱虫片。\n",
      "- **防治频率**：每3个月一次。\n",
      "- **使用方法**：按说明书剂量服用，空腹效果更佳。\n",
      "\n",
      "---\n",
      "\n",
      "\n",
      "--------------------------------------------------\n",
      "\n",
      "第 4 块：\n",
      "--------------------------------------------------\n",
      "### 4. 紧急情况的家庭急救方法及应急物品清单\n",
      "\n",
      "#### （1）外伤急救\n",
      "- **方法**：用生理盐水清洗伤口，涂抹抗菌药膏，必要时包扎。\n",
      "- **注意事项**：避免使用酒精直接涂抹伤口，以免刺激。\n",
      "\n",
      "#### （2）中毒急救\n",
      "- **方法**：立即停止接触毒物，诱导呕吐（可用肥皂水），并尽快就医。\n",
      "- **注意事项**：带上毒物样本供医生参考。\n",
      "\n",
      "#### （3）中暑急救\n",
      "- **方法**：将猫咪移至阴凉处，用湿毛巾擦拭身体降温，提供清水饮用。\n",
      "- **注意事项**：若呼吸急促或昏迷，需立即就医。\n",
      "\n",
      "#### 应急物品清单\n",
      "- 急救箱：纱布、绷带、消毒棉球、剪刀、镊子。\n",
      "- 药品：生理盐水、抗菌药膏、止血粉。\n",
      "- 工具：体温计、手套、宠物保定工具。\n",
      "\n",
      "---\n",
      "\n",
      "\n",
      "--------------------------------------------------\n",
      "\n",
      "第 5 块：\n",
      "--------------------------------------------------\n",
      "### 5. 宠物就医的常见流程与检查项目\n",
      "\n",
      "#### （1）就医流程\n",
      "1. **预约挂号**：提前联系医院确认就诊时间。\n",
      "2. **初步问诊**：描述猫咪的症状、发病时间和生活习惯。\n",
      "3. **体格检查**：包括体温、心率、呼吸频率等。\n",
      "4. **实验室检查**：血液检查、尿液分析、X光或超声波。\n",
      "5. **治疗方案**：医生根据检查结果制定治疗计划。\n",
      "\n",
      "#### （2）紧急就医情况\n",
      "- 呼吸困难、持续呕吐或腹泻、出血不止、意识丧失。\n",
      "- 就诊前准备资料：疫苗记录、近期用药记录、症状描述。\n",
      "\n",
      "---\n",
      "\n",
      "\n",
      "--------------------------------------------------\n",
      "\n",
      "第 6 块：\n",
      "--------------------------------------------------\n",
      "### 6. 兽医基础知识介绍\n",
      "\n",
      "#### （1）解剖结构\n",
      "- 阿比西尼亚猫属于中小型猫种，骨骼轻盈，肌肉发达。心脏位于胸腔中央，肝脏和胃在腹部左侧，肾脏在背部两侧。\n",
      "- 猫咪的消化系统较短，适合高蛋白饮食，肠道易受寄生虫影响。\n",
      "\n",
      "#### （2）常见药物作用原理\n",
      "- **抗生素**：抑制细菌生长或杀死细菌，用于治疗感染。\n",
      "- **驱虫药**：干扰寄生虫神经系统，使其麻痹脱落或死亡。\n",
      "- **退烧药**：调节体温中枢，降低体温。\n",
      "\n",
      "#### （3）用药注意事项\n",
      "- 按体重精确计算剂量，避免过量。\n",
      "- 不要随意更换药物品牌或停药，遵医嘱完成疗程。\n",
      "- 观察药物不良反应，如呕吐、腹泻或过敏，及时联系兽医。\n",
      "--------------------------------------------------\n",
      "\n"
     ]
    }
   ],
   "execution_count": 3
  }
 ],
 "metadata": {
  "kernelspec": {
   "display_name": "Python 3",
   "language": "python",
   "name": "python3"
  },
  "language_info": {
   "codemirror_mode": {
    "name": "ipython",
    "version": 2
   },
   "file_extension": ".py",
   "mimetype": "text/x-python",
   "name": "python",
   "nbconvert_exporter": "python",
   "pygments_lexer": "ipython2",
   "version": "2.7.6"
  }
 },
 "nbformat": 4,
 "nbformat_minor": 5
}
