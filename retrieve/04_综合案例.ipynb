{
 "cells": [
  {
   "metadata": {},
   "cell_type": "markdown",
   "source": "### RAG结合LLM",
   "id": "acfb38860c495fad"
  },
  {
   "metadata": {},
   "cell_type": "markdown",
   "source": "不用RAG给LLM灌输上下文数据",
   "id": "cf18b7485773ee1b"
  },
  {
   "metadata": {
    "ExecuteTime": {
     "end_time": "2025-08-11T02:52:44.610848Z",
     "start_time": "2025-08-11T02:52:34.041101Z"
    }
   },
   "cell_type": "code",
   "source": [
    "from langchain_openai import ChatOpenAI\n",
    "import os\n",
    "import dotenv\n",
    "dotenv.load_dotenv()\n",
    "\n",
    "os.environ['OPENAI_API_KEY'] = os.getenv(\"OPENAI_API_KEY\")\n",
    "os.environ['OPENAI_BASE_URL'] = os.getenv(\"OPENAI_BASE_URL\")\n",
    "\n",
    "# 创建大模型实例\n",
    "llm = ChatOpenAI(model=\"gpt-4o-mini\")\n",
    "\n",
    "# 调用\n",
    "response = llm.invoke(\"北京有什么著名的建筑？\")\n",
    "print(response.content)"
   ],
   "id": "9d5271b816905750",
   "outputs": [
    {
     "name": "stderr",
     "output_type": "stream",
     "text": [
      "/opt/anaconda3/envs/langchain/lib/python3.10/site-packages/requests/__init__.py:86: RequestsDependencyWarning: Unable to find acceptable character detection dependency (chardet or charset_normalizer).\n",
      "  warnings.warn(\n"
     ]
    },
    {
     "name": "stdout",
     "output_type": "stream",
     "text": [
      "北京作为中国的首都，拥有许多著名的建筑和历史遗迹。以下是一些代表性的建筑：\n",
      "\n",
      "1. **故宫**：明清两代的皇家宫殿，是中国现存最完整、规模最大的一组古代建筑群，也是世界文化遗产。\n",
      "\n",
      "2. **天安门广场**：中国最大的城市广场，广场上有毛主席纪念堂、人民大会堂等重要建筑。\n",
      "\n",
      "3. **天坛**：明清时期的皇家祭天场所，以其独特的建筑风格和大的圆形设计而闻名，也是世界文化遗产。\n",
      "\n",
      "4. **颐和园**：清代皇家园林，以其湖光山色和丰富的文化遗产著称，是游览和休闲的理想去处。\n",
      "\n",
      "5. **长城**：虽然长城跨越多个省份，但在北京附近的八达岭和慕田峪段非常著名，是中国古代防御工程的象征。\n",
      "\n",
      "6. **鸟巢（国家体育场）**：为2008年北京奥运会而建，是现代建筑的代表之一。\n",
      "\n",
      "7. **水立方（国家游泳中心）**：同样为2008年奥运会而建，以其独特的“水泡”设计而受到广泛关注。\n",
      "\n",
      "8. **798艺术区**：原为工业区，现已转型为艺术区，聚集了许多画廊、艺术工作室和创意产业。\n",
      "\n",
      "9. **北京大学和清华大学**：这两所大学不仅学术声誉高，校园内的建筑和环境也极具特色。\n",
      "\n",
      "这些建筑和遗迹展示了北京丰富的历史和文化，是游客和居民必访的地方。\n"
     ]
    }
   ],
   "execution_count": 1
  },
  {
   "metadata": {},
   "cell_type": "markdown",
   "source": "**情况2：使用RAG给LLM灌输上下文数据**",
   "id": "2b8eeaca7a2a1255"
  },
  {
   "metadata": {
    "ExecuteTime": {
     "end_time": "2025-08-11T02:53:55.399024Z",
     "start_time": "2025-08-11T02:53:44.565887Z"
    }
   },
   "cell_type": "code",
   "source": [
    "# 1. 导入所有需要的包\n",
    "from langchain.prompts import PromptTemplate\n",
    "from langchain_openai import ChatOpenAI,OpenAIEmbeddings\n",
    "from langchain_community.document_loaders import TextLoader\n",
    "from langchain.text_splitter import CharacterTextSplitter\n",
    "from langchain_community.vectorstores import FAISS\n",
    "import os\n",
    "import dotenv\n",
    "\n",
    "dotenv.load_dotenv()\n",
    "\n",
    "# 2. 创建自定义提示词模板\n",
    "prompt_template = \"\"\"请使用以下提供的文本内容来回答问题。仅使用提供的文本信息，如果文本中没有相关信息，请回答\"抱歉，提供的文本中没有这个信息\"。\n",
    "\n",
    "文本内容：\n",
    "{context}\n",
    "\n",
    "问题：{question}\n",
    "\n",
    "回答：\n",
    "\"\n",
    "\"\"\"\n",
    "\n",
    "prompt = PromptTemplate.from_template(prompt_template)\n",
    "\n",
    "# 3. 初始化模型\n",
    "os.environ['OPENAI_API_KEY'] = os.getenv(\"OPENAI_API_KEY\")\n",
    "os.environ['OPENAI_BASE_URL'] = os.getenv(\"OPENAI_BASE_URL\")\n",
    "llm = ChatOpenAI(\n",
    "    model=\"gpt-4o-mini\",\n",
    "    temperature=0\n",
    ")\n",
    "\n",
    "embeddings = OpenAIEmbeddings(model=\"text-embedding-3-large\")\n",
    "\n",
    "# 4. 加载文档\n",
    "loader = TextLoader(\"./asset/load/10-test_doc.txt\", encoding='utf-8')\n",
    "documents = loader.load()\n",
    "\n",
    "# 5. 分割文档\n",
    "text_splitter = CharacterTextSplitter(\n",
    "    chunk_size=1000,\n",
    "    chunk_overlap=0,\n",
    "    length_function=len\n",
    ")\n",
    "texts = text_splitter.split_documents(documents)\n",
    "\n",
    "print(f\"文档个数:{len(texts)}\")\n",
    "\n",
    "# 6. 创建向量存储\n",
    "vectorstore = FAISS.from_documents(\n",
    "    documents=texts,\n",
    "    embedding=embeddings\n",
    ")\n",
    "\n",
    "# 7.获取检索器\n",
    "retriever = vectorstore.as_retriever()\n",
    "\n",
    "docs = retriever.invoke(\"北京有什么著名的建筑？\")\n",
    "\n",
    "# 8. 创建Runnable链\n",
    "chain = prompt | llm\n",
    "\n",
    "# 9. 提问\n",
    "result = chain.invoke(input={\"question\":\"北京有什么著名的建筑？\",\"context\":docs})\n",
    "print(\"\\n回答:\", result.content)"
   ],
   "id": "3a01c47f6def7713",
   "outputs": [
    {
     "name": "stdout",
     "output_type": "stream",
     "text": [
      "文档个数:1\n",
      "\n",
      "回答: 北京有以下著名的建筑：\n",
      "\n",
      "1. 故宫 - 明清两代的皇家宫殿，世界上现存规模最大、保存最完整的木质结构古建筑群之一。\n",
      "2. 天安门 - 北京的标志性建筑之一，天安门广场是世界上最大的城市广场。\n",
      "3. 颐和园 - 清朝时期的皇家园林，融合了江南园林的设计风格。\n",
      "4. 天坛 - 明清两代皇帝祭天、祈谷的场所，具有深厚的文化内涵。\n",
      "5. 长城（八达岭段） - 最著名的北京段，被誉为\"世界第八大奇迹\"。\n",
      "6. 国家体育场（鸟巢） - 2008年奥运会主体育场，以独特的钢结构设计著称。\n",
      "7. 中央电视台总部大楼 - 现代北京最具争议和识别度的建筑之一。\n",
      "8. 国家大剧院 - 因其蛋壳造型被称为\"巨蛋\"，是世界最大的穹顶建筑之一。\n",
      "9. 北京大兴国际机场 - 超大型国际航空枢纽，被誉为\"新世界七大奇迹\"之一。\n",
      "10. 鼓楼和钟楼 - 古代中国的计时中心，展现了古代的计时智慧。\n"
     ]
    }
   ],
   "execution_count": 2
  },
  {
   "metadata": {},
   "cell_type": "markdown",
   "source": "### 项目：智能对话助手",
   "id": "bd652666c0178fc1"
  },
  {
   "metadata": {},
   "cell_type": "markdown",
   "source": "#### 1  定义工具",
   "id": "2c5ff5ca051fe711"
  },
  {
   "metadata": {
    "ExecuteTime": {
     "end_time": "2025-08-11T03:14:26.957478Z",
     "start_time": "2025-08-11T03:14:11.290450Z"
    }
   },
   "cell_type": "code",
   "source": [
    "import os\n",
    "from langchain_community.tools.tavily_search import TavilySearchResults\n",
    "\n",
    "# 查询 Tavily 搜索 API\n",
    "search = TavilySearchResults(max_results=1)\n",
    "# 执行查询\n",
    "res = search.invoke(\"今天上海天气怎么样\")\n",
    "print(res)"
   ],
   "id": "7acdfab1ff15e7c7",
   "outputs": [
    {
     "name": "stderr",
     "output_type": "stream",
     "text": [
      "/var/folders/88/h2503n817r15dm_yghgn_vcm0000gn/T/ipykernel_92984/2622377732.py:5: LangChainDeprecationWarning: The class `TavilySearchResults` was deprecated in LangChain 0.3.25 and will be removed in 1.0. An updated version of the class exists in the :class:`~langchain-tavily package and should be used instead. To use it run `pip install -U :class:`~langchain-tavily` and import as `from :class:`~langchain_tavily import TavilySearch``.\n",
      "  search = TavilySearchResults(max_results=1)\n"
     ]
    },
    {
     "name": "stdout",
     "output_type": "stream",
     "text": [
      "[{'title': '上海, 上海市, 中國每月天氣', 'url': 'https://www.accuweather.com/zh/cn/shanghai/106577/august-weather/106577', 'content': '上海, 上海市, 中國 每月天氣 | AccuWeather 上海, 上海市 ======= 72°FImage 1 上海 上海市 72° 上海, 上海市 天氣 27 90° 79°28 91° 78°29 91° 77°30 90° 77°31 90° 78°1 91° 78°2 90° 75°3 89° 77°4 88° 76°5 87° 75°6 88° 76°7 87° 79°8 87° 79°9 88° 78°10 87° 79°11 86° 79°12 86° 78°13 88° 77°14 89° 78°15 88° 77°16 86° 76°17 86° 77°18 85° 77°19 85° 76°20 86° 78°21 85° 78°22 86° 77°23 86° 77°24 85° 76°25 84° 75°26 85° 76°27 84° 73°28 84° 75°29 83° 72°30 83° 72°31 84° 71°1 83° 72°2 84° 73°3 83° 75°4 82° 73°5 83° 75°6 82° 71° *   嘉興, 浙江省 *   寧波, 浙江省 © 2025 AccuWeather, Inc. 版權所有。「AccuWeather」和太陽商標設計是 AccuWeather, Inc. 的註冊商標。保留所有權利。  Get AccuWeather alerts as they happen with our browser notifications. Enable Notifications Notifications Enabled', 'score': 0.9854}]\n"
     ]
    }
   ],
   "execution_count": 3
  },
  {
   "metadata": {},
   "cell_type": "markdown",
   "source": "#### 2 Retriever",
   "id": "ab947173fb16d0b"
  },
  {
   "metadata": {
    "ExecuteTime": {
     "end_time": "2025-08-11T03:15:40.527273Z",
     "start_time": "2025-08-11T03:15:29.666035Z"
    }
   },
   "cell_type": "code",
   "source": [
    "from langchain_community.document_loaders import WebBaseLoader\n",
    "from langchain_community.vectorstores import FAISS\n",
    "from langchain_openai import OpenAIEmbeddings\n",
    "from langchain_text_splitters import RecursiveCharacterTextSplitter\n",
    "import os\n",
    "import dotenv\n",
    "dotenv.load_dotenv()\n",
    "\n",
    "# 1. 提供一个大模型\n",
    "os.environ['OPENAI_API_KEY'] = os.getenv(\"OPENAI_API_KEY\")\n",
    "os.environ['OPENAI_BASE_URL'] = os.getenv(\"OPENAI_BASE_URL\")\n",
    "\n",
    "embedding_model = OpenAIEmbeddings()\n",
    "\n",
    "# 2.加载HTML内容为一个文档对象\n",
    "loader = WebBaseLoader(\"https://zh.wikipedia.org/wiki/%E7%8C%AB\")\n",
    "docs = loader.load()\n",
    "#print(docs)\n",
    "\n",
    "# 3.分割文档\n",
    "documents = RecursiveCharacterTextSplitter(\n",
    "    #chunk_size 参数在 RecursiveCharacterTextSplitter 中用于指定每个文档块的最大字符数。它的作用主要有以下几个方面：\n",
    "    #chunk_overlap 参数用于指定每个文档块之间的重叠字符数。这意味着，当文档被拆分成较小的块时，每个块的末尾部分会与下一个块的开头部分有一定数量的重叠字符。\n",
    "    #第一个块包含字符 1 到 1000。第二个块包含字符 801 到 1800。第三个块包含字符 1601 到 2600。\n",
    "    chunk_size=1000, chunk_overlap=200\n",
    ").split_documents(docs)\n",
    "\n",
    "# 4.向量化 得到向量数据库对象\n",
    "vector = FAISS.from_documents(documents, embedding_model)\n",
    "\n",
    "# 5.创建检索器\n",
    "retriever = vector.as_retriever()\n",
    "\n",
    "# 测试检索结果\n",
    "print(retriever.invoke(\"猫的特征\")[0])"
   ],
   "id": "e429c37a3ea1fda8",
   "outputs": [
    {
     "name": "stderr",
     "output_type": "stream",
     "text": [
      "USER_AGENT environment variable not set, consider setting it to identify your requests.\n"
     ]
    },
    {
     "name": "stdout",
     "output_type": "stream",
     "text": [
      "page_content='感官[编辑]\n",
      "貓的感官適於狩獵。在哺乳類動物中，貓的聽覺、視覺、嗅覺、味覺、觸覺極敏銳。\n",
      "\n",
      "視覺[编辑]\n",
      "貓的瞳孔能縮得如線般狹小\n",
      "貓的瞳孔變化\n",
      "貓在晝間視覺縱不及人類，夜視能力與追蹤視覺上之活動物件卻相當出色，夜視能力是人類的六倍，雖然綜合色彩計算整體視覺系數則僅及人類的十分之一。貓的眼睛具有微光觀察能力，即使只有微弱月光都可分辨物件，有關光線入貓眼後可放大40至50倍處理，令貓具有夜間活動的能力，即使在黑暗的地下室貓咪依然能活動自如。強光下，貓會將瞳孔縮得如線般狹小，以減少對視網膜的傷害，但視野會因而縮窄。由於貓眼具備高幀與高分辨率視覺，故此電視機極微細之動靜對貓而言亦成逐格跳躍之畫面。[48]\n",
      "另外，不只是光線會影響貓的瞳孔，感情也會。一般而言貓放鬆的時候瞳孔會縮小，而緊張時會放大。\n",
      "貓的視網膜背面有一層藍綠色如熒光一般的薄膜（Tapetum Lucidum），可增加在暗處的視力。閃光中，貓眼能呈現各式各樣顔色。如同多數食肉動物，貓眼長在臉上朝正前方，賦予其遼闊的視野，單一貓眼視野為100度，雙眼視野為285度，加上頸旋靈活，總計視野比人類雙眼僅100度靈活得多。不過，貓僅能聚焦其前30厘米至3米之物件，相對人類而言屬大近視。\n",
      "貓對三原色的辨識力很差，相對人類而言，貓有黃藍色盲且紅綠色辨成灰黃色，與狗相似。關於貓的夜視能力，生物學家發現牛磺酸對貓的視力起了很大作用，貓本身不能合成牛磺酸，必須由外攝取。缺乏牛磺酸，會使視力及夜視能力變差，影響夜間活動。據生物學家稱，貓經常捕鼠，是因老鼠體內含牛磺酸。[49][50]\n",
      "紫外線可以通過貓的晶状体。\n",
      "當四周光線微弱，貓會用感覺毛來改善行動力與感知能力。感覺毛主要分布於鼻子兩側、下巴、雙眼上方、兩頰也有數根。感覺毛可感受非常微弱的空氣波動，視野不清時也能協助辨識阻礙位置。鬍鬚尖端與雙耳連成一線，恰是身體能通過障礙的最小範圍，故貓可在黑夜中快速判斷地形能否通過。\n",
      "貓有第三眼瞼，當貓眼睑張開時，眨眼時第三眼瞼會從旁稍微遮蓋眼睛。若貓生病，或是睡眠，笑著，此眼皮會縮回一部分。若貓長時間嶄露第三眼瞼，表示它的健康有問題。' metadata={'source': 'https://zh.wikipedia.org/wiki/%E7%8C%AB', 'title': '猫 - 维基百科，自由的百科全书', 'language': 'zh'}\n"
     ]
    }
   ],
   "execution_count": 4
  },
  {
   "metadata": {},
   "cell_type": "markdown",
   "source": "#### 3 创建工具、工具集",
   "id": "bb1ffc5a897e2fae"
  },
  {
   "metadata": {
    "ExecuteTime": {
     "end_time": "2025-08-11T03:17:34.052363Z",
     "start_time": "2025-08-11T03:17:34.040111Z"
    }
   },
   "cell_type": "code",
   "source": [
    "from langchain.tools.retriever import create_retriever_tool\n",
    "# 创建一个工具来检索文档\n",
    "retriever_tool = create_retriever_tool(\n",
    "    retriever,\n",
    "    \"wiki_search\",\n",
    "    \"搜索维基百科\",\n",
    ")\n",
    "tools = [search, retriever_tool]"
   ],
   "id": "1d9ed15cd1b97959",
   "outputs": [],
   "execution_count": 5
  },
  {
   "metadata": {},
   "cell_type": "markdown",
   "source": "#### 4 语言模型调用工具",
   "id": "d349d3cc5e299aad"
  },
  {
   "metadata": {
    "ExecuteTime": {
     "end_time": "2025-08-11T03:17:39.447565Z",
     "start_time": "2025-08-11T03:17:37.545037Z"
    }
   },
   "cell_type": "code",
   "source": [
    "from langchain_openai import ChatOpenAI\n",
    "from langchain_core.messages import HumanMessage\n",
    "model = ChatOpenAI(model=\"gpt-4\")\n",
    "\n",
    "# 模型绑定工具\n",
    "model_with_tools = model.bind_tools(tools)\n",
    "\n",
    "# 根据输入自动调用工具\n",
    "response = model_with_tools.invoke([HumanMessage(content=\"今天上海天气怎么样\")])\n",
    "print(f\"ContentString: {response.content}\")\n",
    "print(f\"ToolCalls: {response.tool_calls}\")\n"
   ],
   "id": "79f4d98366eb7c3",
   "outputs": [
    {
     "name": "stdout",
     "output_type": "stream",
     "text": [
      "ContentString: \n",
      "ToolCalls: [{'name': 'tavily_search_results_json', 'args': {'query': '今天上海天气'}, 'id': 'call_Yng06yYSUQnfjZrozIqZUtXh', 'type': 'tool_call'}]\n"
     ]
    }
   ],
   "execution_count": 6
  },
  {
   "metadata": {},
   "cell_type": "markdown",
   "source": "#### 5 创建Agent程序(使用通用方式)",
   "id": "f33d452c9eca8094"
  },
  {
   "metadata": {
    "ExecuteTime": {
     "end_time": "2025-08-11T03:19:10.306961Z",
     "start_time": "2025-08-11T03:19:09.539879Z"
    }
   },
   "cell_type": "code",
   "source": [
    "from langchain import hub\n",
    "prompt = hub.pull(\"hwchase17/openai-functions-agent\")\n",
    "\n",
    "prompt.messages\n"
   ],
   "id": "b4a7fa421fbc05c5",
   "outputs": [
    {
     "data": {
      "text/plain": [
       "[SystemMessagePromptTemplate(prompt=PromptTemplate(input_variables=[], input_types={}, partial_variables={}, template='You are a helpful assistant'), additional_kwargs={}),\n",
       " MessagesPlaceholder(variable_name='chat_history', optional=True),\n",
       " HumanMessagePromptTemplate(prompt=PromptTemplate(input_variables=['input'], input_types={}, partial_variables={}, template='{input}'), additional_kwargs={}),\n",
       " MessagesPlaceholder(variable_name='agent_scratchpad')]"
      ]
     },
     "execution_count": 7,
     "metadata": {},
     "output_type": "execute_result"
    }
   ],
   "execution_count": 7
  },
  {
   "metadata": {
    "ExecuteTime": {
     "end_time": "2025-08-11T03:20:49.736367Z",
     "start_time": "2025-08-11T03:20:49.728077Z"
    }
   },
   "cell_type": "code",
   "source": [
    "from langchain.agents import create_tool_calling_agent\n",
    "from langchain.agents import AgentExecutor\n",
    "# 创建Agent对象\n",
    "agent = create_tool_calling_agent(model, tools, prompt)\n",
    "\n",
    "# 创建AgentExecutor对象\n",
    "agent_executor = AgentExecutor(agent=agent, tools=tools,verbose=True)"
   ],
   "id": "956c39e3d946a575",
   "outputs": [],
   "execution_count": 11
  },
  {
   "metadata": {
    "ExecuteTime": {
     "end_time": "2025-08-11T03:21:11.108879Z",
     "start_time": "2025-08-11T03:20:51.213572Z"
    }
   },
   "cell_type": "code",
   "source": "print(agent_executor.invoke({\"input\": \"猫的特征\"}))",
   "id": "76a0907236b570a1",
   "outputs": [
    {
     "name": "stdout",
     "output_type": "stream",
     "text": [
      "\n",
      "\n",
      "\u001B[1m> Entering new AgentExecutor chain...\u001B[0m\n",
      "\u001B[32;1m\u001B[1;3m\n",
      "Invoking: `wiki_search` with `{'query': '猫的特征'}`\n",
      "\n",
      "\n",
      "\u001B[0m\u001B[33;1m\u001B[1;3m感官[编辑]\n",
      "貓的感官適於狩獵。在哺乳類動物中，貓的聽覺、視覺、嗅覺、味覺、觸覺極敏銳。\n",
      "\n",
      "視覺[编辑]\n",
      "貓的瞳孔能縮得如線般狹小\n",
      "貓的瞳孔變化\n",
      "貓在晝間視覺縱不及人類，夜視能力與追蹤視覺上之活動物件卻相當出色，夜視能力是人類的六倍，雖然綜合色彩計算整體視覺系數則僅及人類的十分之一。貓的眼睛具有微光觀察能力，即使只有微弱月光都可分辨物件，有關光線入貓眼後可放大40至50倍處理，令貓具有夜間活動的能力，即使在黑暗的地下室貓咪依然能活動自如。強光下，貓會將瞳孔縮得如線般狹小，以減少對視網膜的傷害，但視野會因而縮窄。由於貓眼具備高幀與高分辨率視覺，故此電視機極微細之動靜對貓而言亦成逐格跳躍之畫面。[48]\n",
      "另外，不只是光線會影響貓的瞳孔，感情也會。一般而言貓放鬆的時候瞳孔會縮小，而緊張時會放大。\n",
      "貓的視網膜背面有一層藍綠色如熒光一般的薄膜（Tapetum Lucidum），可增加在暗處的視力。閃光中，貓眼能呈現各式各樣顔色。如同多數食肉動物，貓眼長在臉上朝正前方，賦予其遼闊的視野，單一貓眼視野為100度，雙眼視野為285度，加上頸旋靈活，總計視野比人類雙眼僅100度靈活得多。不過，貓僅能聚焦其前30厘米至3米之物件，相對人類而言屬大近視。\n",
      "貓對三原色的辨識力很差，相對人類而言，貓有黃藍色盲且紅綠色辨成灰黃色，與狗相似。關於貓的夜視能力，生物學家發現牛磺酸對貓的視力起了很大作用，貓本身不能合成牛磺酸，必須由外攝取。缺乏牛磺酸，會使視力及夜視能力變差，影響夜間活動。據生物學家稱，貓經常捕鼠，是因老鼠體內含牛磺酸。[49][50]\n",
      "紫外線可以通過貓的晶状体。\n",
      "當四周光線微弱，貓會用感覺毛來改善行動力與感知能力。感覺毛主要分布於鼻子兩側、下巴、雙眼上方、兩頰也有數根。感覺毛可感受非常微弱的空氣波動，視野不清時也能協助辨識阻礙位置。鬍鬚尖端與雙耳連成一線，恰是身體能通過障礙的最小範圍，故貓可在黑夜中快速判斷地形能否通過。\n",
      "貓有第三眼瞼，當貓眼睑張開時，眨眼時第三眼瞼會從旁稍微遮蓋眼睛。若貓生病，或是睡眠，笑著，此眼皮會縮回一部分。若貓長時間嶄露第三眼瞼，表示它的健康有問題。\n",
      "\n",
      "貓爪[编辑]\n",
      "貓的爪子尖銳還能有伸縮作用，能夠向外露張開或是往內縮閉藏起來。貓的趾底有脂肪肉墊，因而行走無聲。而按一下這個肉墊，尖銳的勾爪就會伸出來，養貓的人一般使用這種方法來剪爪。大部分貓都有磨爪的習慣。而貓喜好的磨爪物各不相同。家貓可能會選擇沙發、牆壁甚至人類的衣物等作為自己的磨爪物。\n",
      "\n",
      "感官[编辑]\n",
      "貓的感官適於狩獵。在哺乳類動物中，貓的聽覺、視覺、嗅覺、味覺、觸覺極敏銳。\n",
      "\n",
      "聽覺[编辑]\n",
      "貓每隻耳各有32條獨立的肌肉控制耳殼轉動，因此雙耳可單獨朝向不同的音源轉動，使其向獵物移動時仍能對周遭其他音源保持直接接觸。[51]除了蘇格蘭折耳貓這類基因突變的貓以外，貓極少有狗常見的「垂耳」，多數的貓耳向上直立。當貓忿怒或受驚時，耳朵會貼向後方，並發出咆哮與「嘶」聲。\n",
      "貓與人類對低頻聲音靈敏度相若。人類中只有極少數的調音師能聽到20 kHz以上的高頻聲音（8.4度的八度音），貓則可達64kHz（10度的八度音），比人類要高1.6個八度音，甚至比狗要高1個八度；但是貓辨別音差須開最少5度，比起人類辨別音差須開最少0.5度來得粗疏。[48][52]\n",
      "\n",
      "嗅覺[编辑]\n",
      "家貓的嗅覺較人類靈敏14倍[53]。貓的鼻腔內有2億個嗅覺受器，數量甚至超過某些品種的狗（狗嗅覺細胞約1.25億～2.2億）。\n",
      "\n",
      "味覺[编辑]\n",
      "貓早期演化時由於基因突變，失去了甜的味覺，[54]但貓不光能感知酸、苦、鹹味，选择适合自己口味的食物，还能尝出水的味道，这一点是其他动物所不及的。不过总括来说猫的味觉不算完善，相比一般人類平均有9000個味蕾，貓一般平均僅有473個味蕾且不喜好低於室溫之食物。故此，貓辨認食物乃憑嗅覺多於味覺。[48]\n",
      "\n",
      "觸覺[编辑]\n",
      "貓在磨蹭時身上會散發出特別的費洛蒙，當這些獨有的費洛蒙留下時，目的就是在宣誓主權，提醒其它貓這是我的，其實這種行為算是一種標記地盤的象徵，會讓牠們有感到安心及安全感。\n",
      "\n",
      "品種[编辑]\n",
      "主条目：家貓品種列表\n",
      "直至2019年，國際貓協會（TICA）一共標識出71個標準化品種[60]，愛貓協會（CFA）則標識出44個品種[61]，國際貓聯合會（FIFE）則標識出43個品種。[62]\n",
      "分類和命名的不一致可能導致同一隻貓被不同的認定機構視為是不同的品種。例如TICA認定喜馬拉雅貓（Himalayan）被CFA認為是重點色波斯貓（colorpoint variety of the Persian）。\n",
      "很多與地理有關的貓品種實際上只是西方繁育者為了突出異國風格的命名，與這些品種的實際起源沒有關係。比如喜馬拉雅貓、巴厘貓、爪哇貓。[63]\n",
      "混種短毛貓和混種長毛貓不是貓的品種，而只是術語。一般指形態、毛長不屬於某一特定品種的貓。\n",
      "\n",
      "寿限与健康[编辑]\n",
      "主条目：猫的疾病\n",
      "近几十年来，宠物猫的寿限（平均寿命）呈上升趋势。在20世纪80年代初，该数字（欧美数据）约为7年[64]；1995年上升至9.4年[65]:33，2021年约为15年。据报道，有些猫可以活到30多岁，已知最老的猫Creme Puff在38岁时去世[66]。\n",
      "绝育可以延长寿命：一项研究发现，去勢的公猫寿命是完整的公猫的两倍，而阉割的母猫寿命比完整的母猫长62%[65]:35；最近的统计亦证实绝育有益延寿[67]。此外，把猫绝育对其健康有益，因为去势的公猫不会患睾丸癌，阉割的母猫不会患子宫癌或卵巢癌，且两者患乳腺癌的风险都降低了[68]。\n",
      "猫可能罹患寄生虫、传染病或非传染病。需要注意的是，貓的排毒（detoxification）能力低於人類與狗等動物，因此許多普通家用物品對貓可能有危險。另外因为猫的体型小，对成年人（体重70kg左右）安全的药物对猫（体重在5kg左右）来说剂量就太大，会造成中毒。[69][70]\u001B[0m\u001B[32;1m\u001B[1;3m猫的特性十分丰富，下面我帮您整理一些关键点：\n",
      "\n",
      "1. 视觉：猫在晚上的视觉非常出色，它的夜视能力是人类的六倍，光线入眼后可以被放大40至50倍，所以猫可以在非常微弱的光线条件下看清物体。不过，猫对颜色的识别能力不强，例如不能感知红色和绿色。\n",
      "\n",
      "2. 爪：猫的爪非常尖锐，并且可以伸缩。通过磨爪，猫可以保持爪子的尖锐。\n",
      "\n",
      "3. 聽覺：猫的耳朵拥有32条独立的肌肉控制转动，使得它可以精确的捕捉到声源。猫的听力范围可达64kHz，比人类和狗都要高。\n",
      "\n",
      "4. 嗅覺：猫的嗅覺是人类的14倍，非常敏感。\n",
      "\n",
      "5. 味覺：猫不能感知甜味，但可以辨识酸、苦、咸和水的味道。\n",
      "\n",
      "6. 触觉：猫的触觉十分敏感，它们借助触觉可以在视线不好的情况下识别出障碍物的位置。\n",
      "\n",
      "7. 品种：至2019年，国际猫协会已经标识出71个标准化品种。\n",
      "\n",
      "以上仅仅是一部分关于猫的特性，实际上猫的特性还包括高度的灵活性，睡眠模式，视觉模式等等方面。\u001B[0m\n",
      "\n",
      "\u001B[1m> Finished chain.\u001B[0m\n",
      "{'input': '猫的特征', 'output': '猫的特性十分丰富，下面我帮您整理一些关键点：\\n\\n1. 视觉：猫在晚上的视觉非常出色，它的夜视能力是人类的六倍，光线入眼后可以被放大40至50倍，所以猫可以在非常微弱的光线条件下看清物体。不过，猫对颜色的识别能力不强，例如不能感知红色和绿色。\\n\\n2. 爪：猫的爪非常尖锐，并且可以伸缩。通过磨爪，猫可以保持爪子的尖锐。\\n\\n3. 聽覺：猫的耳朵拥有32条独立的肌肉控制转动，使得它可以精确的捕捉到声源。猫的听力范围可达64kHz，比人类和狗都要高。\\n\\n4. 嗅覺：猫的嗅覺是人类的14倍，非常敏感。\\n\\n5. 味覺：猫不能感知甜味，但可以辨识酸、苦、咸和水的味道。\\n\\n6. 触觉：猫的触觉十分敏感，它们借助触觉可以在视线不好的情况下识别出障碍物的位置。\\n\\n7. 品种：至2019年，国际猫协会已经标识出71个标准化品种。\\n\\n以上仅仅是一部分关于猫的特性，实际上猫的特性还包括高度的灵活性，睡眠模式，视觉模式等等方面。'}\n"
     ]
    }
   ],
   "execution_count": 12
  },
  {
   "metadata": {
    "ExecuteTime": {
     "end_time": "2025-08-11T03:21:36.604851Z",
     "start_time": "2025-08-11T03:21:27.840610Z"
    }
   },
   "cell_type": "code",
   "source": "print(agent_executor.invoke({\"input\": \"今天上海天气怎么样\"}))",
   "id": "85efbd5aec5bc996",
   "outputs": [
    {
     "name": "stdout",
     "output_type": "stream",
     "text": [
      "\n",
      "\n",
      "\u001B[1m> Entering new AgentExecutor chain...\u001B[0m\n",
      "\u001B[32;1m\u001B[1;3m\n",
      "Invoking: `tavily_search_results_json` with `{'query': '今天上海天气'}`\n",
      "\n",
      "\n",
      "\u001B[0m\u001B[36;1m\u001B[1;3m[{'title': '上海 - 百度', 'url': 'https://weathernew.pae.baidu.com/weathernew/pc?query=%E4%B8%8A%E6%B5%B7%E5%A4%A9%E6%B0%94&srcid=4982&forecast=long_day_forecast', 'content': '===============\\n\\nImage 1\\n\\n上海 今天：多云  21°~31°C  南风1级\\n\\n06月04日 周三 农历五月初九\\n\\n27°\\n\\n104 轻度\\n\\n多云 东风  1级 \\n\\n湿度57%日出04:50 日落18:55\\n\\n24小时预报\\n\\n    温度 \\n    降水量 \\n    风力风向 \\n    空气质量 \\n\\n31°C 26°C 21°C\\n\\n现在\\n\\n21:00\\n\\n22:00\\n\\n23:00\\n\\n00:00\\n\\n01:00\\n\\n02:00\\n\\n03:00\\n\\n04:00\\n\\n05:00\\n\\n06:00\\n\\n07:00\\n\\n08:00\\n\\n09:00\\n\\n10:00\\n\\n11:00\\n\\n12:00\\n\\n13:00\\n\\n14:00\\n\\n15:00\\n\\n16:00\\n\\n17:00\\n\\n18:00\\n\\n19:00\\n\\n15天天气预报\\n\\n   昨天\\n\\n06/03\\n\\n1级\\n\\n优\\n\\n   今天\\n\\n06/04\\n\\n1级\\n\\n轻度\\n\\n   明天\\n\\n06/05\\n\\n3级\\n\\n轻度\\n\\n   周五\\n\\n06/06\\n\\n3级\\n\\n轻度\\n\\n   周六\\n\\n06/07\\n\\n3级\\n\\n良\\n\\n   周日\\n\\n06/08\\n\\n1级\\n\\n良\\n\\n   周一\\n\\n06/09\\n\\n1级', 'score': 0.7738498}]\u001B[0m\u001B[32;1m\u001B[1;3m今天上海的天气是多云，温度在21°~31°C之间，风力为南风1级。空气质量为轻度污染。\u001B[0m\n",
      "\n",
      "\u001B[1m> Finished chain.\u001B[0m\n",
      "{'input': '今天上海天气怎么样', 'output': '今天上海的天气是多云，温度在21°~31°C之间，风力为南风1级。空气质量为轻度污染。'}\n"
     ]
    }
   ],
   "execution_count": 13
  },
  {
   "metadata": {},
   "cell_type": "markdown",
   "source": "#### 添加记忆",
   "id": "3f18e4148ab1e6c7"
  },
  {
   "metadata": {
    "ExecuteTime": {
     "end_time": "2025-08-11T05:22:29.537722Z",
     "start_time": "2025-08-11T05:22:27.238220Z"
    }
   },
   "cell_type": "code",
   "source": [
    "from langchain_community.chat_message_histories import ChatMessageHistory\n",
    "\n",
    "from langchain_core.chat_history import BaseChatMessageHistory\n",
    "\n",
    "from langchain_core.runnables.history import RunnableWithMessageHistory\n",
    "\n",
    "store = {}\n",
    "\n",
    "# 调取指定session_id对应的memory\n",
    "def get_session_history(session_id: str) -> BaseChatMessageHistory:\n",
    "\n",
    "    if session_id not in store:\n",
    "        store[session_id] = ChatMessageHistory()\n",
    "\n",
    "    return store[session_id]\n",
    "\n",
    "agent_with_chat_history = RunnableWithMessageHistory(\n",
    "    agent_executor,\n",
    "    get_session_history,\n",
    "    input_messages_key=\"input\",\n",
    "    history_messages_key=\"chat_history\",\n",
    ")\n",
    "response = agent_with_chat_history.invoke(\n",
    "    {\"input\": \"Hi，我的名字是Cyber\"},\n",
    "    config={\"configurable\": {\"session_id\": \"123\"}},\n",
    ")\n",
    "\n",
    "print(response)"
   ],
   "id": "e4306c1becebbed9",
   "outputs": [
    {
     "name": "stdout",
     "output_type": "stream",
     "text": [
      "\n",
      "\n",
      "\u001B[1m> Entering new AgentExecutor chain...\u001B[0m\n",
      "\u001B[32;1m\u001B[1;3m你好，Cyber！很高兴认识你。有什么我可以帮助你的吗？\u001B[0m\n",
      "\n",
      "\u001B[1m> Finished chain.\u001B[0m\n",
      "{'input': 'Hi，我的名字是Cyber', 'chat_history': [], 'output': '你好，Cyber！很高兴认识你。有什么我可以帮助你的吗？'}\n"
     ]
    }
   ],
   "execution_count": 14
  }
 ],
 "metadata": {
  "kernelspec": {
   "display_name": "Python 3",
   "language": "python",
   "name": "python3"
  },
  "language_info": {
   "codemirror_mode": {
    "name": "ipython",
    "version": 2
   },
   "file_extension": ".py",
   "mimetype": "text/x-python",
   "name": "python",
   "nbconvert_exporter": "python",
   "pygments_lexer": "ipython2",
   "version": "2.7.6"
  }
 },
 "nbformat": 4,
 "nbformat_minor": 5
}
