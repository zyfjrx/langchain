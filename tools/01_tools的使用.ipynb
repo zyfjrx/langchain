{
 "cells": [
  {
   "metadata": {},
   "cell_type": "markdown",
   "source": "#### 自定义工具",
   "id": "75148cc41cde47cd"
  },
  {
   "metadata": {},
   "cell_type": "markdown",
   "source": "##### **使用[@tool装饰器](https://api.python.langchain.com/en/latest/tools/langchain_core.tools.tool.html#langchain_core.tools.tool)（自定义工具的最简单方式）**",
   "id": "f13f38796c5fbcd1"
  },
  {
   "metadata": {
    "ExecuteTime": {
     "end_time": "2025-08-07T01:26:26.312808Z",
     "start_time": "2025-08-07T01:26:25.989418Z"
    }
   },
   "cell_type": "code",
   "source": [
    "from langchain.tools import tool\n",
    "\n",
    "@tool\n",
    "def add_number(a:int,b:int)->int:\n",
    "    \"\"\"两个整数相加\"\"\"\n",
    "    return a + b\n",
    "\n",
    "\n",
    "print(f\"name = {add_number.name}\")\n",
    "print(f\"args = {add_number.args}\")\n",
    "print(f\"description = {add_number.description}\")\n",
    "print(f\"return_direct = {add_number.return_direct}\")\n",
    "\n",
    "res = add_number.invoke({\"a\":10,\"b\":20})\n",
    "print(res)"
   ],
   "id": "ad652b84d5ebb5a7",
   "outputs": [
    {
     "name": "stdout",
     "output_type": "stream",
     "text": [
      "name = add_number\n",
      "args = {'a': {'title': 'A', 'type': 'integer'}, 'b': {'title': 'B', 'type': 'integer'}}\n",
      "description = 两个整数相加\n",
      "return_direct = False\n",
      "30\n"
     ]
    },
    {
     "name": "stderr",
     "output_type": "stream",
     "text": [
      "/opt/anaconda3/envs/langchain/lib/python3.10/site-packages/requests/__init__.py:86: RequestsDependencyWarning: Unable to find acceptable character detection dependency (chardet or charset_normalizer).\n",
      "  warnings.warn(\n"
     ]
    }
   ],
   "execution_count": 1
  },
  {
   "metadata": {},
   "cell_type": "markdown",
   "source": "##### 通过@tool的参数设置进行重置",
   "id": "64e2bee87d264e8f"
  },
  {
   "metadata": {
    "ExecuteTime": {
     "end_time": "2025-08-07T01:32:53.980341Z",
     "start_time": "2025-08-07T01:32:53.971057Z"
    }
   },
   "cell_type": "code",
   "source": [
    "from langchain.tools import tool\n",
    "\n",
    "\n",
    "@tool(name_or_callable=\"add_two_number\",description=\"two number add\",return_direct=True)\n",
    "def add_number(a:int,b:int)->int:\n",
    "    \"\"\"两个整数相加\"\"\"\n",
    "    return a + b\n",
    "\n",
    "\n",
    "print(f\"name = {add_number.name}\")\n",
    "print(f\"description = {add_number.description}\")\n",
    "print(f\"args = {add_number.args}\")\n",
    "print(f\"return_direct = {add_number.return_direct}\")\n",
    "\n",
    "res = add_number.invoke({\"a\":10,\"b\":20})\n",
    "print(res)"
   ],
   "id": "3e5a3df1f5750f81",
   "outputs": [
    {
     "name": "stdout",
     "output_type": "stream",
     "text": [
      "name = add_two_number\n",
      "description = two number add\n",
      "args = {'a': {'title': 'A', 'type': 'integer'}, 'b': {'title': 'B', 'type': 'integer'}}\n",
      "return_direct = True\n",
      "30\n"
     ]
    }
   ],
   "execution_count": 2
  },
  {
   "metadata": {},
   "cell_type": "markdown",
   "source": "##### 还可以修改参数的说明",
   "id": "5d6f0c68f465456"
  },
  {
   "metadata": {
    "ExecuteTime": {
     "end_time": "2025-08-07T01:33:51.269069Z",
     "start_time": "2025-08-07T01:33:51.261736Z"
    }
   },
   "cell_type": "code",
   "source": [
    "from langchain.tools import tool\n",
    "from pydantic import BaseModel, Field\n",
    "\n",
    "class FieldInfo(BaseModel):\n",
    "    a :int = Field(description=\"第1个参数\")\n",
    "    b :int = Field(description=\"第2个参数\")\n",
    "\n",
    "@tool(name_or_callable=\"add_two_number\",description=\"two number add\",args_schema=FieldInfo,return_direct=True)\n",
    "def add_number(a:int,b:int)->int:\n",
    "    \"\"\"两个整数相加\"\"\"\n",
    "    return a + b\n",
    "\n",
    "\n",
    "print(f\"name = {add_number.name}\")\n",
    "print(f\"description = {add_number.description}\")\n",
    "print(f\"args = {add_number.args}\")\n",
    "print(f\"return_direct = {add_number.return_direct}\")\n",
    "\n",
    "res = add_number.invoke({\"a\":10,\"b\":20})\n",
    "print(res)"
   ],
   "id": "2fd29ca4e21dfb44",
   "outputs": [
    {
     "name": "stdout",
     "output_type": "stream",
     "text": [
      "name = add_two_number\n",
      "description = two number add\n",
      "args = {'a': {'description': '第1个参数', 'title': 'A', 'type': 'integer'}, 'b': {'description': '第2个参数', 'title': 'B', 'type': 'integer'}}\n",
      "return_direct = True\n",
      "30\n"
     ]
    }
   ],
   "execution_count": 3
  },
  {
   "metadata": {},
   "cell_type": "markdown",
   "source": [
    "#### 方式2：StructuredTool的from_function()\n",
    "\n",
    "`StructuredTool.from_function` 类方法提供了比`@tool`装饰器更多的可配置性，而无需太多额外的代码。"
   ],
   "id": "31c43863fc615c50"
  },
  {
   "metadata": {
    "ExecuteTime": {
     "end_time": "2025-08-07T01:39:05.058683Z",
     "start_time": "2025-08-07T01:39:05.052384Z"
    }
   },
   "cell_type": "code",
   "source": [
    "from langchain_core.tools import StructuredTool\n",
    "\n",
    "class FieldInfo(BaseModel):\n",
    "    a :int = Field(description=\"第1个参数\")\n",
    "    b :int = Field(description=\"第2个参数\")\n",
    "\n",
    "def add_number(a:int,b:int)->int:\n",
    "    \"\"\"两个整数相加\"\"\"\n",
    "    return a + b\n",
    "tool = add_number_tool = StructuredTool.from_function(\n",
    "    func=add_number,\n",
    "    name=\"add_two_number\",\n",
    "    description=\"两个整数相加\",\n",
    "    return_direct=True,\n",
    "    args_schema=FieldInfo\n",
    "    )\n",
    "\n",
    "print(f\"name = {tool.name}\")\n",
    "print(f\"description = {tool.description}\")\n",
    "print(f\"args = {tool.args}\")\n",
    "print(f\"return_direct = {tool.return_direct}\")\n",
    "\n",
    "res = tool.invoke({\"a\":10,\"b\":20})\n",
    "print(res)"
   ],
   "id": "70bfbe9861771866",
   "outputs": [
    {
     "name": "stdout",
     "output_type": "stream",
     "text": [
      "name = add_two_number\n",
      "description = 两个整数相加\n",
      "args = {'a': {'description': '第1个参数', 'title': 'A', 'type': 'integer'}, 'b': {'description': '第2个参数', 'title': 'B', 'type': 'integer'}}\n",
      "return_direct = True\n",
      "30\n"
     ]
    }
   ],
   "execution_count": 5
  },
  {
   "metadata": {
    "ExecuteTime": {
     "end_time": "2025-08-07T01:42:46.431532Z",
     "start_time": "2025-08-07T01:42:43.710634Z"
    }
   },
   "cell_type": "code",
   "source": [
    "#1.导入相关依赖\n",
    "from langchain_community.tools import MoveFileTool\n",
    "from langchain_core.messages import HumanMessage\n",
    "from langchain_core.utils.function_calling import convert_to_openai_function\n",
    "from langchain_openai import ChatOpenAI\n",
    "import os\n",
    "import dotenv\n",
    "from langchain_openai import ChatOpenAI\n",
    "\n",
    "dotenv.load_dotenv()\n",
    "\n",
    "# 2.定义LLM模型\n",
    "model =ChatOpenAI(model=\"gpt-4o-mini\",api_key=os.getenv(\"OPENAI_API_KEY\"),base_url=os.getenv(\"OPENAI_BASE_URL\"))\n",
    "\n",
    "# 3.定义工具\n",
    "tools = [MoveFileTool()]\n",
    "\n",
    "# 4.将工具转换为函数\n",
    "functions = [convert_to_openai_function(t) for t in tools]\n",
    "\n",
    "# print(functions[0])\n",
    "\n",
    "# 4.模型使用函数\n",
    "message = model.invoke(\n",
    "    [HumanMessage(content=\"move file foo to bar\")],\n",
    "    functions=functions\n",
    ")\n",
    "\n",
    "print(message)"
   ],
   "id": "dc2c80321fc12d99",
   "outputs": [
    {
     "name": "stdout",
     "output_type": "stream",
     "text": [
      "content='' additional_kwargs={'function_call': {'arguments': '{\"source_path\":\"foo\",\"destination_path\":\"bar\"}', 'name': 'move_file'}, 'refusal': None} response_metadata={'token_usage': {'completion_tokens': 20, 'prompt_tokens': 74, 'total_tokens': 94, 'completion_tokens_details': {'accepted_prediction_tokens': 0, 'audio_tokens': 0, 'reasoning_tokens': 0, 'rejected_prediction_tokens': 0}, 'prompt_tokens_details': {'audio_tokens': 0, 'cached_tokens': 0}}, 'model_name': 'gpt-4o-mini-2024-07-18', 'system_fingerprint': 'fp_34a54ae93c', 'id': 'chatcmpl-C1jwTTPDnwSNmK6xNovj259K978MU', 'service_tier': 'default', 'finish_reason': 'function_call', 'logprobs': None} id='run--2c77283d-fd11-4199-999d-4af3caeb9c36-0' usage_metadata={'input_tokens': 74, 'output_tokens': 20, 'total_tokens': 94, 'input_token_details': {'audio': 0, 'cache_read': 0}, 'output_token_details': {'audio': 0, 'reasoning': 0}}\n"
     ]
    }
   ],
   "execution_count": 6
  },
  {
   "metadata": {
    "ExecuteTime": {
     "end_time": "2025-08-07T01:44:33.240792Z",
     "start_time": "2025-08-07T01:44:30.694871Z"
    }
   },
   "cell_type": "code",
   "source": [
    "message = model.invoke(\n",
    "    [HumanMessage(content=\"how is the weather in beijing\")],\n",
    "    functions=functions\n",
    ")\n",
    "print(message)"
   ],
   "id": "d31a4a3c6a2e9ae9",
   "outputs": [
    {
     "name": "stdout",
     "output_type": "stream",
     "text": [
      "content=\"I don't have real-time data access to provide current weather information. However, you can check a reliable weather website or app for the latest weather updates in Beijing.\" additional_kwargs={'refusal': None} response_metadata={'token_usage': {'completion_tokens': 33, 'prompt_tokens': 76, 'total_tokens': 109, 'completion_tokens_details': {'accepted_prediction_tokens': 0, 'audio_tokens': 0, 'reasoning_tokens': 0, 'rejected_prediction_tokens': 0}, 'prompt_tokens_details': {'audio_tokens': 0, 'cached_tokens': 0}}, 'model_name': 'gpt-4o-mini-2024-07-18', 'system_fingerprint': 'fp_34a54ae93c', 'id': 'chatcmpl-C1jyBm0boPtFut2sMVm0LlXuqZnTW', 'service_tier': 'default', 'finish_reason': 'stop', 'logprobs': None} id='run--d424964a-5405-464d-bbdf-0c43096c42be-0' usage_metadata={'input_tokens': 76, 'output_tokens': 33, 'total_tokens': 109, 'input_token_details': {'audio': 0, 'cache_read': 0}, 'output_token_details': {'audio': 0, 'reasoning': 0}}\n"
     ]
    }
   ],
   "execution_count": 7
  },
  {
   "metadata": {},
   "cell_type": "markdown",
   "source": "",
   "id": "c8249e1e7b4c3514"
  },
  {
   "metadata": {
    "ExecuteTime": {
     "end_time": "2025-08-07T01:47:30.135306Z",
     "start_time": "2025-08-07T01:47:27.430005Z"
    }
   },
   "cell_type": "code",
   "source": [
    "message = model.invoke(\n",
    "    [HumanMessage(content=\"将本目录下的abc.txt 移动到/Users/zhangyf/PycharmProjects/langchain/model_io\")],\n",
    "    functions=functions\n",
    ")\n",
    "print(message)"
   ],
   "id": "26f6944c5b160ac3",
   "outputs": [
    {
     "name": "stdout",
     "output_type": "stream",
     "text": [
      "content='' additional_kwargs={'function_call': {'arguments': '{\"source_path\":\"./abc.txt\",\"destination_path\":\"/Users/zhangyf/PycharmProjects/langchain/model_io/abc.txt\"}', 'name': 'move_file'}, 'refusal': None} response_metadata={'token_usage': {'completion_tokens': 38, 'prompt_tokens': 94, 'total_tokens': 132, 'completion_tokens_details': {'accepted_prediction_tokens': 0, 'audio_tokens': 0, 'reasoning_tokens': 0, 'rejected_prediction_tokens': 0}, 'prompt_tokens_details': {'audio_tokens': 0, 'cached_tokens': 0}}, 'model_name': 'gpt-4o-mini-2024-07-18', 'system_fingerprint': 'fp_34a54ae93c', 'id': 'chatcmpl-C1k12wuFfl172wj9b7gsoDh1ThVEg', 'service_tier': 'default', 'finish_reason': 'function_call', 'logprobs': None} id='run--0c10bb44-360a-4f13-b8a2-a84bed649d18-0' usage_metadata={'input_tokens': 94, 'output_tokens': 38, 'total_tokens': 132, 'input_token_details': {'audio': 0, 'cache_read': 0}, 'output_token_details': {'audio': 0, 'reasoning': 0}}\n"
     ]
    }
   ],
   "execution_count": 8
  },
  {
   "metadata": {
    "ExecuteTime": {
     "end_time": "2025-08-07T01:48:03.932725Z",
     "start_time": "2025-08-07T01:48:03.929914Z"
    }
   },
   "cell_type": "code",
   "source": [
    "import json\n",
    "\n",
    "if \"function_call\" in message.additional_kwargs:\n",
    "    tool_name = message.additional_kwargs[\"function_call\"][\"name\"]\n",
    "    tool_args = json.loads(message.additional_kwargs[\"function_call\"][\"arguments\"])\n",
    "    print(f\"调用工具: {tool_name}, 参数: {tool_args}\")\n",
    "else:\n",
    "    print(\"模型回复:\", message.content)"
   ],
   "id": "bcf17a7d4a49bd11",
   "outputs": [
    {
     "name": "stdout",
     "output_type": "stream",
     "text": [
      "调用工具: move_file, 参数: {'source_path': './abc.txt', 'destination_path': '/Users/zhangyf/PycharmProjects/langchain/model_io/abc.txt'}\n"
     ]
    }
   ],
   "execution_count": 9
  },
  {
   "metadata": {
    "ExecuteTime": {
     "end_time": "2025-08-07T01:49:09.973419Z",
     "start_time": "2025-08-07T01:49:09.968588Z"
    }
   },
   "cell_type": "code",
   "source": [
    "from langchain.tools import MoveFileTool\n",
    "\n",
    "if \"move_file\" in message.additional_kwargs[\"function_call\"][\"name\"]:\n",
    "    tool = MoveFileTool()\n",
    "    result = tool.run(tool_args)  # 执行工具\n",
    "    print(\"工具执行结果:\", result)"
   ],
   "id": "4d0b9304925f7340",
   "outputs": [
    {
     "name": "stdout",
     "output_type": "stream",
     "text": [
      "工具执行结果: File moved successfully from ./abc.txt to /Users/zhangyf/PycharmProjects/langchain/model_io/abc.txt.\n"
     ]
    }
   ],
   "execution_count": 10
  }
 ],
 "metadata": {
  "kernelspec": {
   "display_name": "Python 3",
   "language": "python",
   "name": "python3"
  },
  "language_info": {
   "codemirror_mode": {
    "name": "ipython",
    "version": 2
   },
   "file_extension": ".py",
   "mimetype": "text/x-python",
   "name": "python",
   "nbconvert_exporter": "python",
   "pygments_lexer": "ipython2",
   "version": "2.7.6"
  }
 },
 "nbformat": 4,
 "nbformat_minor": 5
}
